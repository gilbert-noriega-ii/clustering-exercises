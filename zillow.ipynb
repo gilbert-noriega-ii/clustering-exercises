{
 "cells": [
  {
   "cell_type": "markdown",
   "metadata": {},
   "source": [
    "# Acquire & Summarize"
   ]
  },
  {
   "cell_type": "code",
   "execution_count": 1,
   "metadata": {},
   "outputs": [],
   "source": [
    "import pandas as pd\n",
    "import matplotlib.pyplot as plt\n",
    "\n",
    "from acquire import get_connection, get_zillow_data\n",
    "\n",
    "import warnings\n",
    "warnings.filterwarnings(\"ignore\")"
   ]
  },
  {
   "cell_type": "markdown",
   "metadata": {},
   "source": [
    "## 1. Acquire data from mySQL using the python module to connect and query. You will want to end with a single dataframe. \n",
    "- Make sure to include: the logerror, all fields related to the properties that are available. You will end up using all the tables in the database.\n",
    "- Be sure to do the correct join (inner, outer, etc.). We do not want to eliminate properties purely because they may have a null value for airconditioningtypeid.\n",
    "- Only include properties with a transaction in 2017, and include only the last transaction for each properity (so no duplicate property ID's), along with zestimate error and date of transaction.\n",
    "- Only include properties that include a latitude and longitude value."
   ]
  },
  {
   "cell_type": "code",
   "execution_count": 2,
   "metadata": {},
   "outputs": [],
   "source": [
    "df = get_zillow_data()"
   ]
  },
  {
   "cell_type": "markdown",
   "metadata": {},
   "source": [
    "## 2. Summarize your data \n",
    "- (summary stats, info, dtypes, shape, distributions, value_counts, etc.)"
   ]
  },
  {
   "cell_type": "code",
   "execution_count": 3,
   "metadata": {},
   "outputs": [
    {
     "data": {
      "text/html": [
       "<div>\n",
       "<style scoped>\n",
       "    .dataframe tbody tr th:only-of-type {\n",
       "        vertical-align: middle;\n",
       "    }\n",
       "\n",
       "    .dataframe tbody tr th {\n",
       "        vertical-align: top;\n",
       "    }\n",
       "\n",
       "    .dataframe thead th {\n",
       "        text-align: right;\n",
       "    }\n",
       "</style>\n",
       "<table border=\"1\" class=\"dataframe\">\n",
       "  <thead>\n",
       "    <tr style=\"text-align: right;\">\n",
       "      <th></th>\n",
       "      <th>parcelid</th>\n",
       "      <th>typeconstructiontypeid</th>\n",
       "      <th>storytypeid</th>\n",
       "      <th>propertylandusetypeid</th>\n",
       "      <th>heatingorsystemtypeid</th>\n",
       "      <th>buildingclasstypeid</th>\n",
       "      <th>architecturalstyletypeid</th>\n",
       "      <th>airconditioningtypeid</th>\n",
       "      <th>id</th>\n",
       "      <th>basementsqft</th>\n",
       "      <th>...</th>\n",
       "      <th>logerror</th>\n",
       "      <th>pid</th>\n",
       "      <th>tdate</th>\n",
       "      <th>airconditioningdesc</th>\n",
       "      <th>architecturalstyledesc</th>\n",
       "      <th>buildingclassdesc</th>\n",
       "      <th>heatingorsystemdesc</th>\n",
       "      <th>propertylandusedesc</th>\n",
       "      <th>storydesc</th>\n",
       "      <th>typeconstructiondesc</th>\n",
       "    </tr>\n",
       "  </thead>\n",
       "  <tbody>\n",
       "    <tr>\n",
       "      <th>0</th>\n",
       "      <td>14297519</td>\n",
       "      <td>NaN</td>\n",
       "      <td>NaN</td>\n",
       "      <td>261.0</td>\n",
       "      <td>NaN</td>\n",
       "      <td>NaN</td>\n",
       "      <td>NaN</td>\n",
       "      <td>NaN</td>\n",
       "      <td>1727539</td>\n",
       "      <td>NaN</td>\n",
       "      <td>...</td>\n",
       "      <td>0.025595</td>\n",
       "      <td>14297519</td>\n",
       "      <td>2017-01-01</td>\n",
       "      <td>NaN</td>\n",
       "      <td>NaN</td>\n",
       "      <td>NaN</td>\n",
       "      <td>NaN</td>\n",
       "      <td>Single Family Residential</td>\n",
       "      <td>NaN</td>\n",
       "      <td>NaN</td>\n",
       "    </tr>\n",
       "    <tr>\n",
       "      <th>1</th>\n",
       "      <td>17052889</td>\n",
       "      <td>NaN</td>\n",
       "      <td>NaN</td>\n",
       "      <td>261.0</td>\n",
       "      <td>NaN</td>\n",
       "      <td>NaN</td>\n",
       "      <td>NaN</td>\n",
       "      <td>NaN</td>\n",
       "      <td>1387261</td>\n",
       "      <td>NaN</td>\n",
       "      <td>...</td>\n",
       "      <td>0.055619</td>\n",
       "      <td>17052889</td>\n",
       "      <td>2017-01-01</td>\n",
       "      <td>NaN</td>\n",
       "      <td>NaN</td>\n",
       "      <td>NaN</td>\n",
       "      <td>NaN</td>\n",
       "      <td>Single Family Residential</td>\n",
       "      <td>NaN</td>\n",
       "      <td>NaN</td>\n",
       "    </tr>\n",
       "    <tr>\n",
       "      <th>2</th>\n",
       "      <td>14186244</td>\n",
       "      <td>NaN</td>\n",
       "      <td>NaN</td>\n",
       "      <td>261.0</td>\n",
       "      <td>NaN</td>\n",
       "      <td>NaN</td>\n",
       "      <td>NaN</td>\n",
       "      <td>NaN</td>\n",
       "      <td>11677</td>\n",
       "      <td>NaN</td>\n",
       "      <td>...</td>\n",
       "      <td>0.005383</td>\n",
       "      <td>14186244</td>\n",
       "      <td>2017-01-01</td>\n",
       "      <td>NaN</td>\n",
       "      <td>NaN</td>\n",
       "      <td>NaN</td>\n",
       "      <td>NaN</td>\n",
       "      <td>Single Family Residential</td>\n",
       "      <td>NaN</td>\n",
       "      <td>NaN</td>\n",
       "    </tr>\n",
       "    <tr>\n",
       "      <th>3</th>\n",
       "      <td>12177905</td>\n",
       "      <td>NaN</td>\n",
       "      <td>NaN</td>\n",
       "      <td>261.0</td>\n",
       "      <td>2.0</td>\n",
       "      <td>NaN</td>\n",
       "      <td>NaN</td>\n",
       "      <td>NaN</td>\n",
       "      <td>2288172</td>\n",
       "      <td>NaN</td>\n",
       "      <td>...</td>\n",
       "      <td>-0.103410</td>\n",
       "      <td>12177905</td>\n",
       "      <td>2017-01-01</td>\n",
       "      <td>NaN</td>\n",
       "      <td>NaN</td>\n",
       "      <td>NaN</td>\n",
       "      <td>Central</td>\n",
       "      <td>Single Family Residential</td>\n",
       "      <td>NaN</td>\n",
       "      <td>NaN</td>\n",
       "    </tr>\n",
       "    <tr>\n",
       "      <th>4</th>\n",
       "      <td>10887214</td>\n",
       "      <td>NaN</td>\n",
       "      <td>NaN</td>\n",
       "      <td>266.0</td>\n",
       "      <td>2.0</td>\n",
       "      <td>NaN</td>\n",
       "      <td>NaN</td>\n",
       "      <td>1.0</td>\n",
       "      <td>1970746</td>\n",
       "      <td>NaN</td>\n",
       "      <td>...</td>\n",
       "      <td>0.006940</td>\n",
       "      <td>10887214</td>\n",
       "      <td>2017-01-01</td>\n",
       "      <td>Central</td>\n",
       "      <td>NaN</td>\n",
       "      <td>NaN</td>\n",
       "      <td>Central</td>\n",
       "      <td>Condominium</td>\n",
       "      <td>NaN</td>\n",
       "      <td>NaN</td>\n",
       "    </tr>\n",
       "  </tbody>\n",
       "</table>\n",
       "<p>5 rows × 70 columns</p>\n",
       "</div>"
      ],
      "text/plain": [
       "   parcelid  typeconstructiontypeid  storytypeid  propertylandusetypeid  \\\n",
       "0  14297519                     NaN          NaN                  261.0   \n",
       "1  17052889                     NaN          NaN                  261.0   \n",
       "2  14186244                     NaN          NaN                  261.0   \n",
       "3  12177905                     NaN          NaN                  261.0   \n",
       "4  10887214                     NaN          NaN                  266.0   \n",
       "\n",
       "   heatingorsystemtypeid  buildingclasstypeid  architecturalstyletypeid  \\\n",
       "0                    NaN                  NaN                       NaN   \n",
       "1                    NaN                  NaN                       NaN   \n",
       "2                    NaN                  NaN                       NaN   \n",
       "3                    2.0                  NaN                       NaN   \n",
       "4                    2.0                  NaN                       NaN   \n",
       "\n",
       "   airconditioningtypeid       id  basementsqft  ...  logerror       pid  \\\n",
       "0                    NaN  1727539           NaN  ...  0.025595  14297519   \n",
       "1                    NaN  1387261           NaN  ...  0.055619  17052889   \n",
       "2                    NaN    11677           NaN  ...  0.005383  14186244   \n",
       "3                    NaN  2288172           NaN  ... -0.103410  12177905   \n",
       "4                    1.0  1970746           NaN  ...  0.006940  10887214   \n",
       "\n",
       "        tdate  airconditioningdesc  architecturalstyledesc  buildingclassdesc  \\\n",
       "0  2017-01-01                  NaN                     NaN                NaN   \n",
       "1  2017-01-01                  NaN                     NaN                NaN   \n",
       "2  2017-01-01                  NaN                     NaN                NaN   \n",
       "3  2017-01-01                  NaN                     NaN                NaN   \n",
       "4  2017-01-01              Central                     NaN                NaN   \n",
       "\n",
       "   heatingorsystemdesc        propertylandusedesc  storydesc  \\\n",
       "0                  NaN  Single Family Residential        NaN   \n",
       "1                  NaN  Single Family Residential        NaN   \n",
       "2                  NaN  Single Family Residential        NaN   \n",
       "3              Central  Single Family Residential        NaN   \n",
       "4              Central                Condominium        NaN   \n",
       "\n",
       "   typeconstructiondesc  \n",
       "0                   NaN  \n",
       "1                   NaN  \n",
       "2                   NaN  \n",
       "3                   NaN  \n",
       "4                   NaN  \n",
       "\n",
       "[5 rows x 70 columns]"
      ]
     },
     "execution_count": 3,
     "metadata": {},
     "output_type": "execute_result"
    }
   ],
   "source": [
    "df.head()"
   ]
  },
  {
   "cell_type": "code",
   "execution_count": 4,
   "metadata": {},
   "outputs": [
    {
     "data": {
      "text/plain": [
       "(77380, 70)"
      ]
     },
     "execution_count": 4,
     "metadata": {},
     "output_type": "execute_result"
    }
   ],
   "source": [
    "df.shape"
   ]
  },
  {
   "cell_type": "code",
   "execution_count": 5,
   "metadata": {},
   "outputs": [
    {
     "name": "stdout",
     "output_type": "stream",
     "text": [
      "<class 'pandas.core.frame.DataFrame'>\n",
      "Int64Index: 77380 entries, 0 to 77379\n",
      "Data columns (total 70 columns):\n",
      " #   Column                        Non-Null Count  Dtype  \n",
      "---  ------                        --------------  -----  \n",
      " 0   parcelid                      77380 non-null  int64  \n",
      " 1   typeconstructiontypeid        222 non-null    float64\n",
      " 2   storytypeid                   50 non-null     float64\n",
      " 3   propertylandusetypeid         77380 non-null  float64\n",
      " 4   heatingorsystemtypeid         49439 non-null  float64\n",
      " 5   buildingclasstypeid           15 non-null     float64\n",
      " 6   architecturalstyletypeid      206 non-null    float64\n",
      " 7   airconditioningtypeid         24953 non-null  float64\n",
      " 8   id                            77380 non-null  int64  \n",
      " 9   basementsqft                  50 non-null     float64\n",
      " 10  bathroomcnt                   77380 non-null  float64\n",
      " 11  bedroomcnt                    77380 non-null  float64\n",
      " 12  buildingqualitytypeid         49671 non-null  float64\n",
      " 13  calculatedbathnbr             76771 non-null  float64\n",
      " 14  decktypeid                    614 non-null    float64\n",
      " 15  finishedfloor1squarefeet      6023 non-null   float64\n",
      " 16  calculatedfinishedsquarefeet  77184 non-null  float64\n",
      " 17  finishedsquarefeet12          73748 non-null  float64\n",
      " 18  finishedsquarefeet13          41 non-null     float64\n",
      " 19  finishedsquarefeet15          3009 non-null   float64\n",
      " 20  finishedsquarefeet50          6023 non-null   float64\n",
      " 21  finishedsquarefeet6           386 non-null    float64\n",
      " 22  fips                          77380 non-null  float64\n",
      " 23  fireplacecnt                  8276 non-null   float64\n",
      " 24  fullbathcnt                   76771 non-null  float64\n",
      " 25  garagecarcnt                  25474 non-null  float64\n",
      " 26  garagetotalsqft               25474 non-null  float64\n",
      " 27  hashottuborspa                1538 non-null   float64\n",
      " 28  latitude                      77380 non-null  float64\n",
      " 29  longitude                     77380 non-null  float64\n",
      " 30  lotsizesquarefeet             69141 non-null  float64\n",
      " 31  poolcnt                       16137 non-null  float64\n",
      " 32  poolsizesum                   867 non-null    float64\n",
      " 33  pooltypeid10                  464 non-null    float64\n",
      " 34  pooltypeid2                   1074 non-null   float64\n",
      " 35  pooltypeid7                   15042 non-null  float64\n",
      " 36  propertycountylandusecode     77380 non-null  object \n",
      " 37  propertyzoningdesc            50330 non-null  object \n",
      " 38  rawcensustractandblock        77380 non-null  float64\n",
      " 39  regionidcity                  75909 non-null  float64\n",
      " 40  regionidcounty                77380 non-null  float64\n",
      " 41  regionidneighborhood          30890 non-null  float64\n",
      " 42  regionidzip                   77330 non-null  float64\n",
      " 43  roomcnt                       77380 non-null  float64\n",
      " 44  threequarterbathnbr           10096 non-null  float64\n",
      " 45  unitcnt                       50562 non-null  float64\n",
      " 46  yardbuildingsqft17            2388 non-null   float64\n",
      " 47  yardbuildingsqft26            70 non-null     float64\n",
      " 48  yearbuilt                     77117 non-null  float64\n",
      " 49  numberofstories               17560 non-null  float64\n",
      " 50  fireplaceflag                 172 non-null    float64\n",
      " 51  structuretaxvaluedollarcnt    77268 non-null  float64\n",
      " 52  taxvaluedollarcnt             77379 non-null  float64\n",
      " 53  assessmentyear                77380 non-null  float64\n",
      " 54  landtaxvaluedollarcnt         77378 non-null  float64\n",
      " 55  taxamount                     77375 non-null  float64\n",
      " 56  taxdelinquencyflag            2886 non-null   object \n",
      " 57  taxdelinquencyyear            2886 non-null   float64\n",
      " 58  censustractandblock           77136 non-null  float64\n",
      " 59  id.1                          77380 non-null  int64  \n",
      " 60  logerror                      77380 non-null  float64\n",
      " 61  pid                           77380 non-null  int64  \n",
      " 62  tdate                         77380 non-null  object \n",
      " 63  airconditioningdesc           24953 non-null  object \n",
      " 64  architecturalstyledesc        206 non-null    object \n",
      " 65  buildingclassdesc             15 non-null     object \n",
      " 66  heatingorsystemdesc           49439 non-null  object \n",
      " 67  propertylandusedesc           77380 non-null  object \n",
      " 68  storydesc                     50 non-null     object \n",
      " 69  typeconstructiondesc          222 non-null    object \n",
      "dtypes: float64(55), int64(4), object(11)\n",
      "memory usage: 41.9+ MB\n"
     ]
    }
   ],
   "source": [
    "df.info()"
   ]
  },
  {
   "cell_type": "code",
   "execution_count": 6,
   "metadata": {},
   "outputs": [],
   "source": [
    "df = df.drop(df.columns[[59]], axis = 1)"
   ]
  },
  {
   "cell_type": "markdown",
   "metadata": {},
   "source": [
    "<div class=\"alert alert-block alert-info\">\n",
    "Takeaways:\n",
    "    \n",
    "- Dropping duplicated id columns\n",
    "    \n",
    "</div>"
   ]
  },
  {
   "cell_type": "code",
   "execution_count": 7,
   "metadata": {},
   "outputs": [
    {
     "data": {
      "text/html": [
       "<div>\n",
       "<style scoped>\n",
       "    .dataframe tbody tr th:only-of-type {\n",
       "        vertical-align: middle;\n",
       "    }\n",
       "\n",
       "    .dataframe tbody tr th {\n",
       "        vertical-align: top;\n",
       "    }\n",
       "\n",
       "    .dataframe thead th {\n",
       "        text-align: right;\n",
       "    }\n",
       "</style>\n",
       "<table border=\"1\" class=\"dataframe\">\n",
       "  <thead>\n",
       "    <tr style=\"text-align: right;\">\n",
       "      <th></th>\n",
       "      <th>count</th>\n",
       "      <th>mean</th>\n",
       "      <th>std</th>\n",
       "      <th>min</th>\n",
       "      <th>25%</th>\n",
       "      <th>50%</th>\n",
       "      <th>75%</th>\n",
       "      <th>max</th>\n",
       "    </tr>\n",
       "  </thead>\n",
       "  <tbody>\n",
       "    <tr>\n",
       "      <th>parcelid</th>\n",
       "      <td>77380.0</td>\n",
       "      <td>1.300715e+07</td>\n",
       "      <td>3.481368e+06</td>\n",
       "      <td>1.071186e+07</td>\n",
       "      <td>1.153830e+07</td>\n",
       "      <td>1.253155e+07</td>\n",
       "      <td>1.421184e+07</td>\n",
       "      <td>1.676893e+08</td>\n",
       "    </tr>\n",
       "    <tr>\n",
       "      <th>typeconstructiontypeid</th>\n",
       "      <td>222.0</td>\n",
       "      <td>6.040541e+00</td>\n",
       "      <td>5.572847e-01</td>\n",
       "      <td>4.000000e+00</td>\n",
       "      <td>6.000000e+00</td>\n",
       "      <td>6.000000e+00</td>\n",
       "      <td>6.000000e+00</td>\n",
       "      <td>1.300000e+01</td>\n",
       "    </tr>\n",
       "    <tr>\n",
       "      <th>storytypeid</th>\n",
       "      <td>50.0</td>\n",
       "      <td>7.000000e+00</td>\n",
       "      <td>0.000000e+00</td>\n",
       "      <td>7.000000e+00</td>\n",
       "      <td>7.000000e+00</td>\n",
       "      <td>7.000000e+00</td>\n",
       "      <td>7.000000e+00</td>\n",
       "      <td>7.000000e+00</td>\n",
       "    </tr>\n",
       "    <tr>\n",
       "      <th>propertylandusetypeid</th>\n",
       "      <td>77380.0</td>\n",
       "      <td>2.618264e+02</td>\n",
       "      <td>5.141231e+00</td>\n",
       "      <td>3.100000e+01</td>\n",
       "      <td>2.610000e+02</td>\n",
       "      <td>2.610000e+02</td>\n",
       "      <td>2.660000e+02</td>\n",
       "      <td>2.750000e+02</td>\n",
       "    </tr>\n",
       "    <tr>\n",
       "      <th>heatingorsystemtypeid</th>\n",
       "      <td>49439.0</td>\n",
       "      <td>3.920447e+00</td>\n",
       "      <td>3.592789e+00</td>\n",
       "      <td>1.000000e+00</td>\n",
       "      <td>2.000000e+00</td>\n",
       "      <td>2.000000e+00</td>\n",
       "      <td>7.000000e+00</td>\n",
       "      <td>2.400000e+01</td>\n",
       "    </tr>\n",
       "    <tr>\n",
       "      <th>buildingclasstypeid</th>\n",
       "      <td>15.0</td>\n",
       "      <td>3.933333e+00</td>\n",
       "      <td>2.581989e-01</td>\n",
       "      <td>3.000000e+00</td>\n",
       "      <td>4.000000e+00</td>\n",
       "      <td>4.000000e+00</td>\n",
       "      <td>4.000000e+00</td>\n",
       "      <td>4.000000e+00</td>\n",
       "    </tr>\n",
       "    <tr>\n",
       "      <th>architecturalstyletypeid</th>\n",
       "      <td>206.0</td>\n",
       "      <td>7.388350e+00</td>\n",
       "      <td>2.734542e+00</td>\n",
       "      <td>2.000000e+00</td>\n",
       "      <td>7.000000e+00</td>\n",
       "      <td>7.000000e+00</td>\n",
       "      <td>7.000000e+00</td>\n",
       "      <td>2.100000e+01</td>\n",
       "    </tr>\n",
       "    <tr>\n",
       "      <th>airconditioningtypeid</th>\n",
       "      <td>24953.0</td>\n",
       "      <td>1.813289e+00</td>\n",
       "      <td>2.967894e+00</td>\n",
       "      <td>1.000000e+00</td>\n",
       "      <td>1.000000e+00</td>\n",
       "      <td>1.000000e+00</td>\n",
       "      <td>1.000000e+00</td>\n",
       "      <td>1.300000e+01</td>\n",
       "    </tr>\n",
       "    <tr>\n",
       "      <th>id</th>\n",
       "      <td>77380.0</td>\n",
       "      <td>1.495126e+06</td>\n",
       "      <td>8.609057e+05</td>\n",
       "      <td>3.490000e+02</td>\n",
       "      <td>7.520500e+05</td>\n",
       "      <td>1.497870e+06</td>\n",
       "      <td>2.240480e+06</td>\n",
       "      <td>2.982274e+06</td>\n",
       "    </tr>\n",
       "    <tr>\n",
       "      <th>basementsqft</th>\n",
       "      <td>50.0</td>\n",
       "      <td>6.797200e+02</td>\n",
       "      <td>6.897035e+02</td>\n",
       "      <td>3.800000e+01</td>\n",
       "      <td>2.730000e+02</td>\n",
       "      <td>5.150000e+02</td>\n",
       "      <td>7.965000e+02</td>\n",
       "      <td>3.560000e+03</td>\n",
       "    </tr>\n",
       "    <tr>\n",
       "      <th>bathroomcnt</th>\n",
       "      <td>77380.0</td>\n",
       "      <td>2.299134e+00</td>\n",
       "      <td>9.966566e-01</td>\n",
       "      <td>0.000000e+00</td>\n",
       "      <td>2.000000e+00</td>\n",
       "      <td>2.000000e+00</td>\n",
       "      <td>3.000000e+00</td>\n",
       "      <td>1.800000e+01</td>\n",
       "    </tr>\n",
       "    <tr>\n",
       "      <th>bedroomcnt</th>\n",
       "      <td>77380.0</td>\n",
       "      <td>3.053489e+00</td>\n",
       "      <td>1.139103e+00</td>\n",
       "      <td>0.000000e+00</td>\n",
       "      <td>2.000000e+00</td>\n",
       "      <td>3.000000e+00</td>\n",
       "      <td>4.000000e+00</td>\n",
       "      <td>1.600000e+01</td>\n",
       "    </tr>\n",
       "    <tr>\n",
       "      <th>buildingqualitytypeid</th>\n",
       "      <td>49671.0</td>\n",
       "      <td>6.534638e+00</td>\n",
       "      <td>1.721933e+00</td>\n",
       "      <td>1.000000e+00</td>\n",
       "      <td>6.000000e+00</td>\n",
       "      <td>6.000000e+00</td>\n",
       "      <td>8.000000e+00</td>\n",
       "      <td>1.200000e+01</td>\n",
       "    </tr>\n",
       "    <tr>\n",
       "      <th>calculatedbathnbr</th>\n",
       "      <td>76771.0</td>\n",
       "      <td>2.316871e+00</td>\n",
       "      <td>9.797606e-01</td>\n",
       "      <td>1.000000e+00</td>\n",
       "      <td>2.000000e+00</td>\n",
       "      <td>2.000000e+00</td>\n",
       "      <td>3.000000e+00</td>\n",
       "      <td>1.800000e+01</td>\n",
       "    </tr>\n",
       "    <tr>\n",
       "      <th>decktypeid</th>\n",
       "      <td>614.0</td>\n",
       "      <td>6.600000e+01</td>\n",
       "      <td>0.000000e+00</td>\n",
       "      <td>6.600000e+01</td>\n",
       "      <td>6.600000e+01</td>\n",
       "      <td>6.600000e+01</td>\n",
       "      <td>6.600000e+01</td>\n",
       "      <td>6.600000e+01</td>\n",
       "    </tr>\n",
       "    <tr>\n",
       "      <th>finishedfloor1squarefeet</th>\n",
       "      <td>6023.0</td>\n",
       "      <td>1.366513e+03</td>\n",
       "      <td>6.713081e+02</td>\n",
       "      <td>4.400000e+01</td>\n",
       "      <td>9.550000e+02</td>\n",
       "      <td>1.257000e+03</td>\n",
       "      <td>1.615000e+03</td>\n",
       "      <td>6.912000e+03</td>\n",
       "    </tr>\n",
       "    <tr>\n",
       "      <th>calculatedfinishedsquarefeet</th>\n",
       "      <td>77184.0</td>\n",
       "      <td>1.785229e+03</td>\n",
       "      <td>9.540518e+02</td>\n",
       "      <td>1.280000e+02</td>\n",
       "      <td>1.182000e+03</td>\n",
       "      <td>1.543000e+03</td>\n",
       "      <td>2.113000e+03</td>\n",
       "      <td>3.564000e+04</td>\n",
       "    </tr>\n",
       "    <tr>\n",
       "      <th>finishedsquarefeet12</th>\n",
       "      <td>73748.0</td>\n",
       "      <td>1.760532e+03</td>\n",
       "      <td>9.340270e+02</td>\n",
       "      <td>1.280000e+02</td>\n",
       "      <td>1.172000e+03</td>\n",
       "      <td>1.523000e+03</td>\n",
       "      <td>2.076000e+03</td>\n",
       "      <td>2.192900e+04</td>\n",
       "    </tr>\n",
       "    <tr>\n",
       "      <th>finishedsquarefeet13</th>\n",
       "      <td>41.0</td>\n",
       "      <td>1.389854e+03</td>\n",
       "      <td>1.235317e+02</td>\n",
       "      <td>1.056000e+03</td>\n",
       "      <td>1.344000e+03</td>\n",
       "      <td>1.440000e+03</td>\n",
       "      <td>1.440000e+03</td>\n",
       "      <td>1.560000e+03</td>\n",
       "    </tr>\n",
       "    <tr>\n",
       "      <th>finishedsquarefeet15</th>\n",
       "      <td>3009.0</td>\n",
       "      <td>2.357792e+03</td>\n",
       "      <td>1.188775e+03</td>\n",
       "      <td>5.980000e+02</td>\n",
       "      <td>1.625000e+03</td>\n",
       "      <td>2.094000e+03</td>\n",
       "      <td>2.838000e+03</td>\n",
       "      <td>3.564000e+04</td>\n",
       "    </tr>\n",
       "    <tr>\n",
       "      <th>finishedsquarefeet50</th>\n",
       "      <td>6023.0</td>\n",
       "      <td>1.381772e+03</td>\n",
       "      <td>7.264689e+02</td>\n",
       "      <td>4.400000e+01</td>\n",
       "      <td>9.560000e+02</td>\n",
       "      <td>1.259000e+03</td>\n",
       "      <td>1.621500e+03</td>\n",
       "      <td>1.246700e+04</td>\n",
       "    </tr>\n",
       "    <tr>\n",
       "      <th>finishedsquarefeet6</th>\n",
       "      <td>386.0</td>\n",
       "      <td>2.082500e+03</td>\n",
       "      <td>1.240383e+03</td>\n",
       "      <td>3.800000e+02</td>\n",
       "      <td>9.937500e+02</td>\n",
       "      <td>1.812500e+03</td>\n",
       "      <td>3.053500e+03</td>\n",
       "      <td>5.598000e+03</td>\n",
       "    </tr>\n",
       "    <tr>\n",
       "      <th>fips</th>\n",
       "      <td>77380.0</td>\n",
       "      <td>6.048819e+03</td>\n",
       "      <td>2.074829e+01</td>\n",
       "      <td>6.037000e+03</td>\n",
       "      <td>6.037000e+03</td>\n",
       "      <td>6.037000e+03</td>\n",
       "      <td>6.059000e+03</td>\n",
       "      <td>6.111000e+03</td>\n",
       "    </tr>\n",
       "    <tr>\n",
       "      <th>fireplacecnt</th>\n",
       "      <td>8276.0</td>\n",
       "      <td>1.191155e+00</td>\n",
       "      <td>4.910796e-01</td>\n",
       "      <td>1.000000e+00</td>\n",
       "      <td>1.000000e+00</td>\n",
       "      <td>1.000000e+00</td>\n",
       "      <td>1.000000e+00</td>\n",
       "      <td>5.000000e+00</td>\n",
       "    </tr>\n",
       "    <tr>\n",
       "      <th>fullbathcnt</th>\n",
       "      <td>76771.0</td>\n",
       "      <td>2.250485e+00</td>\n",
       "      <td>9.665580e-01</td>\n",
       "      <td>1.000000e+00</td>\n",
       "      <td>2.000000e+00</td>\n",
       "      <td>2.000000e+00</td>\n",
       "      <td>3.000000e+00</td>\n",
       "      <td>1.800000e+01</td>\n",
       "    </tr>\n",
       "    <tr>\n",
       "      <th>garagecarcnt</th>\n",
       "      <td>25474.0</td>\n",
       "      <td>1.815459e+00</td>\n",
       "      <td>5.883449e-01</td>\n",
       "      <td>0.000000e+00</td>\n",
       "      <td>2.000000e+00</td>\n",
       "      <td>2.000000e+00</td>\n",
       "      <td>2.000000e+00</td>\n",
       "      <td>1.400000e+01</td>\n",
       "    </tr>\n",
       "    <tr>\n",
       "      <th>garagetotalsqft</th>\n",
       "      <td>25474.0</td>\n",
       "      <td>3.501120e+02</td>\n",
       "      <td>2.616816e+02</td>\n",
       "      <td>0.000000e+00</td>\n",
       "      <td>0.000000e+00</td>\n",
       "      <td>4.360000e+02</td>\n",
       "      <td>4.930000e+02</td>\n",
       "      <td>4.251000e+03</td>\n",
       "    </tr>\n",
       "    <tr>\n",
       "      <th>hashottuborspa</th>\n",
       "      <td>1538.0</td>\n",
       "      <td>1.000000e+00</td>\n",
       "      <td>0.000000e+00</td>\n",
       "      <td>1.000000e+00</td>\n",
       "      <td>1.000000e+00</td>\n",
       "      <td>1.000000e+00</td>\n",
       "      <td>1.000000e+00</td>\n",
       "      <td>1.000000e+00</td>\n",
       "    </tr>\n",
       "    <tr>\n",
       "      <th>latitude</th>\n",
       "      <td>77380.0</td>\n",
       "      <td>3.400837e+07</td>\n",
       "      <td>2.653905e+05</td>\n",
       "      <td>3.333953e+07</td>\n",
       "      <td>3.381457e+07</td>\n",
       "      <td>3.402200e+07</td>\n",
       "      <td>3.417439e+07</td>\n",
       "      <td>3.481877e+07</td>\n",
       "    </tr>\n",
       "    <tr>\n",
       "      <th>longitude</th>\n",
       "      <td>77380.0</td>\n",
       "      <td>-1.182036e+08</td>\n",
       "      <td>3.594833e+05</td>\n",
       "      <td>-1.194754e+08</td>\n",
       "      <td>-1.184153e+08</td>\n",
       "      <td>-1.181808e+08</td>\n",
       "      <td>-1.179284e+08</td>\n",
       "      <td>-1.175546e+08</td>\n",
       "    </tr>\n",
       "    <tr>\n",
       "      <th>lotsizesquarefeet</th>\n",
       "      <td>69141.0</td>\n",
       "      <td>2.996963e+04</td>\n",
       "      <td>1.233719e+05</td>\n",
       "      <td>2.360000e+02</td>\n",
       "      <td>5.700000e+03</td>\n",
       "      <td>7.206000e+03</td>\n",
       "      <td>1.183100e+04</td>\n",
       "      <td>6.971010e+06</td>\n",
       "    </tr>\n",
       "    <tr>\n",
       "      <th>poolcnt</th>\n",
       "      <td>16137.0</td>\n",
       "      <td>1.000000e+00</td>\n",
       "      <td>0.000000e+00</td>\n",
       "      <td>1.000000e+00</td>\n",
       "      <td>1.000000e+00</td>\n",
       "      <td>1.000000e+00</td>\n",
       "      <td>1.000000e+00</td>\n",
       "      <td>1.000000e+00</td>\n",
       "    </tr>\n",
       "    <tr>\n",
       "      <th>poolsizesum</th>\n",
       "      <td>867.0</td>\n",
       "      <td>5.179170e+02</td>\n",
       "      <td>1.567160e+02</td>\n",
       "      <td>2.400000e+01</td>\n",
       "      <td>4.240000e+02</td>\n",
       "      <td>5.000000e+02</td>\n",
       "      <td>6.000000e+02</td>\n",
       "      <td>1.500000e+03</td>\n",
       "    </tr>\n",
       "    <tr>\n",
       "      <th>pooltypeid10</th>\n",
       "      <td>464.0</td>\n",
       "      <td>1.000000e+00</td>\n",
       "      <td>0.000000e+00</td>\n",
       "      <td>1.000000e+00</td>\n",
       "      <td>1.000000e+00</td>\n",
       "      <td>1.000000e+00</td>\n",
       "      <td>1.000000e+00</td>\n",
       "      <td>1.000000e+00</td>\n",
       "    </tr>\n",
       "    <tr>\n",
       "      <th>pooltypeid2</th>\n",
       "      <td>1074.0</td>\n",
       "      <td>1.000000e+00</td>\n",
       "      <td>0.000000e+00</td>\n",
       "      <td>1.000000e+00</td>\n",
       "      <td>1.000000e+00</td>\n",
       "      <td>1.000000e+00</td>\n",
       "      <td>1.000000e+00</td>\n",
       "      <td>1.000000e+00</td>\n",
       "    </tr>\n",
       "    <tr>\n",
       "      <th>pooltypeid7</th>\n",
       "      <td>15042.0</td>\n",
       "      <td>1.000000e+00</td>\n",
       "      <td>0.000000e+00</td>\n",
       "      <td>1.000000e+00</td>\n",
       "      <td>1.000000e+00</td>\n",
       "      <td>1.000000e+00</td>\n",
       "      <td>1.000000e+00</td>\n",
       "      <td>1.000000e+00</td>\n",
       "    </tr>\n",
       "    <tr>\n",
       "      <th>rawcensustractandblock</th>\n",
       "      <td>77380.0</td>\n",
       "      <td>6.049130e+07</td>\n",
       "      <td>2.059061e+05</td>\n",
       "      <td>6.037101e+07</td>\n",
       "      <td>6.037311e+07</td>\n",
       "      <td>6.037603e+07</td>\n",
       "      <td>6.059042e+07</td>\n",
       "      <td>6.111009e+07</td>\n",
       "    </tr>\n",
       "    <tr>\n",
       "      <th>regionidcity</th>\n",
       "      <td>75909.0</td>\n",
       "      <td>3.367013e+04</td>\n",
       "      <td>4.716913e+04</td>\n",
       "      <td>3.491000e+03</td>\n",
       "      <td>1.244700e+04</td>\n",
       "      <td>2.521800e+04</td>\n",
       "      <td>4.545700e+04</td>\n",
       "      <td>3.965560e+05</td>\n",
       "    </tr>\n",
       "    <tr>\n",
       "      <th>regionidcounty</th>\n",
       "      <td>77380.0</td>\n",
       "      <td>2.534151e+03</td>\n",
       "      <td>8.015959e+02</td>\n",
       "      <td>1.286000e+03</td>\n",
       "      <td>1.286000e+03</td>\n",
       "      <td>3.101000e+03</td>\n",
       "      <td>3.101000e+03</td>\n",
       "      <td>3.101000e+03</td>\n",
       "    </tr>\n",
       "    <tr>\n",
       "      <th>regionidneighborhood</th>\n",
       "      <td>30890.0</td>\n",
       "      <td>1.877349e+05</td>\n",
       "      <td>1.651188e+05</td>\n",
       "      <td>6.952000e+03</td>\n",
       "      <td>4.673600e+04</td>\n",
       "      <td>1.188490e+05</td>\n",
       "      <td>2.747650e+05</td>\n",
       "      <td>7.641670e+05</td>\n",
       "    </tr>\n",
       "    <tr>\n",
       "      <th>regionidzip</th>\n",
       "      <td>77330.0</td>\n",
       "      <td>9.658709e+04</td>\n",
       "      <td>3.798372e+03</td>\n",
       "      <td>9.598200e+04</td>\n",
       "      <td>9.619300e+04</td>\n",
       "      <td>9.638900e+04</td>\n",
       "      <td>9.698700e+04</td>\n",
       "      <td>3.996750e+05</td>\n",
       "    </tr>\n",
       "    <tr>\n",
       "      <th>roomcnt</th>\n",
       "      <td>77380.0</td>\n",
       "      <td>1.476971e+00</td>\n",
       "      <td>2.824399e+00</td>\n",
       "      <td>0.000000e+00</td>\n",
       "      <td>0.000000e+00</td>\n",
       "      <td>0.000000e+00</td>\n",
       "      <td>0.000000e+00</td>\n",
       "      <td>1.500000e+01</td>\n",
       "    </tr>\n",
       "    <tr>\n",
       "      <th>threequarterbathnbr</th>\n",
       "      <td>10096.0</td>\n",
       "      <td>1.009608e+00</td>\n",
       "      <td>1.186301e-01</td>\n",
       "      <td>1.000000e+00</td>\n",
       "      <td>1.000000e+00</td>\n",
       "      <td>1.000000e+00</td>\n",
       "      <td>1.000000e+00</td>\n",
       "      <td>7.000000e+00</td>\n",
       "    </tr>\n",
       "    <tr>\n",
       "      <th>unitcnt</th>\n",
       "      <td>50562.0</td>\n",
       "      <td>1.110023e+00</td>\n",
       "      <td>1.171166e+00</td>\n",
       "      <td>1.000000e+00</td>\n",
       "      <td>1.000000e+00</td>\n",
       "      <td>1.000000e+00</td>\n",
       "      <td>1.000000e+00</td>\n",
       "      <td>2.370000e+02</td>\n",
       "    </tr>\n",
       "    <tr>\n",
       "      <th>yardbuildingsqft17</th>\n",
       "      <td>2388.0</td>\n",
       "      <td>3.054112e+02</td>\n",
       "      <td>2.383928e+02</td>\n",
       "      <td>1.100000e+01</td>\n",
       "      <td>1.700000e+02</td>\n",
       "      <td>2.510000e+02</td>\n",
       "      <td>3.640000e+02</td>\n",
       "      <td>3.191000e+03</td>\n",
       "    </tr>\n",
       "    <tr>\n",
       "      <th>yardbuildingsqft26</th>\n",
       "      <td>70.0</td>\n",
       "      <td>2.163857e+02</td>\n",
       "      <td>1.901775e+02</td>\n",
       "      <td>1.200000e+01</td>\n",
       "      <td>6.150000e+01</td>\n",
       "      <td>1.645000e+02</td>\n",
       "      <td>3.105000e+02</td>\n",
       "      <td>8.680000e+02</td>\n",
       "    </tr>\n",
       "    <tr>\n",
       "      <th>yearbuilt</th>\n",
       "      <td>77117.0</td>\n",
       "      <td>1.968636e+03</td>\n",
       "      <td>2.378617e+01</td>\n",
       "      <td>1.824000e+03</td>\n",
       "      <td>1.953000e+03</td>\n",
       "      <td>1.970000e+03</td>\n",
       "      <td>1.987000e+03</td>\n",
       "      <td>2.016000e+03</td>\n",
       "    </tr>\n",
       "    <tr>\n",
       "      <th>numberofstories</th>\n",
       "      <td>17560.0</td>\n",
       "      <td>1.434738e+00</td>\n",
       "      <td>5.445687e-01</td>\n",
       "      <td>1.000000e+00</td>\n",
       "      <td>1.000000e+00</td>\n",
       "      <td>1.000000e+00</td>\n",
       "      <td>2.000000e+00</td>\n",
       "      <td>6.000000e+00</td>\n",
       "    </tr>\n",
       "    <tr>\n",
       "      <th>fireplaceflag</th>\n",
       "      <td>172.0</td>\n",
       "      <td>1.000000e+00</td>\n",
       "      <td>0.000000e+00</td>\n",
       "      <td>1.000000e+00</td>\n",
       "      <td>1.000000e+00</td>\n",
       "      <td>1.000000e+00</td>\n",
       "      <td>1.000000e+00</td>\n",
       "      <td>1.000000e+00</td>\n",
       "    </tr>\n",
       "    <tr>\n",
       "      <th>structuretaxvaluedollarcnt</th>\n",
       "      <td>77268.0</td>\n",
       "      <td>1.893160e+05</td>\n",
       "      <td>2.300886e+05</td>\n",
       "      <td>4.400000e+01</td>\n",
       "      <td>8.426500e+04</td>\n",
       "      <td>1.364995e+05</td>\n",
       "      <td>2.187875e+05</td>\n",
       "      <td>1.142179e+07</td>\n",
       "    </tr>\n",
       "    <tr>\n",
       "      <th>taxvaluedollarcnt</th>\n",
       "      <td>77379.0</td>\n",
       "      <td>4.901375e+05</td>\n",
       "      <td>6.534477e+05</td>\n",
       "      <td>1.000000e+03</td>\n",
       "      <td>2.070000e+05</td>\n",
       "      <td>3.589760e+05</td>\n",
       "      <td>5.690030e+05</td>\n",
       "      <td>4.906124e+07</td>\n",
       "    </tr>\n",
       "    <tr>\n",
       "      <th>assessmentyear</th>\n",
       "      <td>77380.0</td>\n",
       "      <td>2.016000e+03</td>\n",
       "      <td>0.000000e+00</td>\n",
       "      <td>2.016000e+03</td>\n",
       "      <td>2.016000e+03</td>\n",
       "      <td>2.016000e+03</td>\n",
       "      <td>2.016000e+03</td>\n",
       "      <td>2.016000e+03</td>\n",
       "    </tr>\n",
       "    <tr>\n",
       "      <th>landtaxvaluedollarcnt</th>\n",
       "      <td>77378.0</td>\n",
       "      <td>3.010969e+05</td>\n",
       "      <td>4.925990e+05</td>\n",
       "      <td>1.610000e+02</td>\n",
       "      <td>8.550400e+04</td>\n",
       "      <td>2.033835e+05</td>\n",
       "      <td>3.668022e+05</td>\n",
       "      <td>4.895220e+07</td>\n",
       "    </tr>\n",
       "    <tr>\n",
       "      <th>taxamount</th>\n",
       "      <td>77375.0</td>\n",
       "      <td>5.995567e+03</td>\n",
       "      <td>7.622887e+03</td>\n",
       "      <td>1.992000e+01</td>\n",
       "      <td>2.715585e+03</td>\n",
       "      <td>4.450720e+03</td>\n",
       "      <td>6.927800e+03</td>\n",
       "      <td>5.866393e+05</td>\n",
       "    </tr>\n",
       "    <tr>\n",
       "      <th>taxdelinquencyyear</th>\n",
       "      <td>2886.0</td>\n",
       "      <td>1.408732e+01</td>\n",
       "      <td>2.185663e+00</td>\n",
       "      <td>3.000000e+00</td>\n",
       "      <td>1.400000e+01</td>\n",
       "      <td>1.500000e+01</td>\n",
       "      <td>1.500000e+01</td>\n",
       "      <td>9.900000e+01</td>\n",
       "    </tr>\n",
       "    <tr>\n",
       "      <th>censustractandblock</th>\n",
       "      <td>77136.0</td>\n",
       "      <td>6.049674e+13</td>\n",
       "      <td>1.535252e+12</td>\n",
       "      <td>6.037101e+13</td>\n",
       "      <td>6.037311e+13</td>\n",
       "      <td>6.037603e+13</td>\n",
       "      <td>6.059042e+13</td>\n",
       "      <td>4.830301e+14</td>\n",
       "    </tr>\n",
       "    <tr>\n",
       "      <th>logerror</th>\n",
       "      <td>77380.0</td>\n",
       "      <td>1.662776e-02</td>\n",
       "      <td>1.701902e-01</td>\n",
       "      <td>-4.655420e+00</td>\n",
       "      <td>-2.437675e-02</td>\n",
       "      <td>6.627250e-03</td>\n",
       "      <td>3.920424e-02</td>\n",
       "      <td>5.262999e+00</td>\n",
       "    </tr>\n",
       "    <tr>\n",
       "      <th>pid</th>\n",
       "      <td>77380.0</td>\n",
       "      <td>1.300715e+07</td>\n",
       "      <td>3.481368e+06</td>\n",
       "      <td>1.071186e+07</td>\n",
       "      <td>1.153830e+07</td>\n",
       "      <td>1.253155e+07</td>\n",
       "      <td>1.421184e+07</td>\n",
       "      <td>1.676893e+08</td>\n",
       "    </tr>\n",
       "  </tbody>\n",
       "</table>\n",
       "</div>"
      ],
      "text/plain": [
       "                                count          mean           std  \\\n",
       "parcelid                      77380.0  1.300715e+07  3.481368e+06   \n",
       "typeconstructiontypeid          222.0  6.040541e+00  5.572847e-01   \n",
       "storytypeid                      50.0  7.000000e+00  0.000000e+00   \n",
       "propertylandusetypeid         77380.0  2.618264e+02  5.141231e+00   \n",
       "heatingorsystemtypeid         49439.0  3.920447e+00  3.592789e+00   \n",
       "buildingclasstypeid              15.0  3.933333e+00  2.581989e-01   \n",
       "architecturalstyletypeid        206.0  7.388350e+00  2.734542e+00   \n",
       "airconditioningtypeid         24953.0  1.813289e+00  2.967894e+00   \n",
       "id                            77380.0  1.495126e+06  8.609057e+05   \n",
       "basementsqft                     50.0  6.797200e+02  6.897035e+02   \n",
       "bathroomcnt                   77380.0  2.299134e+00  9.966566e-01   \n",
       "bedroomcnt                    77380.0  3.053489e+00  1.139103e+00   \n",
       "buildingqualitytypeid         49671.0  6.534638e+00  1.721933e+00   \n",
       "calculatedbathnbr             76771.0  2.316871e+00  9.797606e-01   \n",
       "decktypeid                      614.0  6.600000e+01  0.000000e+00   \n",
       "finishedfloor1squarefeet       6023.0  1.366513e+03  6.713081e+02   \n",
       "calculatedfinishedsquarefeet  77184.0  1.785229e+03  9.540518e+02   \n",
       "finishedsquarefeet12          73748.0  1.760532e+03  9.340270e+02   \n",
       "finishedsquarefeet13             41.0  1.389854e+03  1.235317e+02   \n",
       "finishedsquarefeet15           3009.0  2.357792e+03  1.188775e+03   \n",
       "finishedsquarefeet50           6023.0  1.381772e+03  7.264689e+02   \n",
       "finishedsquarefeet6             386.0  2.082500e+03  1.240383e+03   \n",
       "fips                          77380.0  6.048819e+03  2.074829e+01   \n",
       "fireplacecnt                   8276.0  1.191155e+00  4.910796e-01   \n",
       "fullbathcnt                   76771.0  2.250485e+00  9.665580e-01   \n",
       "garagecarcnt                  25474.0  1.815459e+00  5.883449e-01   \n",
       "garagetotalsqft               25474.0  3.501120e+02  2.616816e+02   \n",
       "hashottuborspa                 1538.0  1.000000e+00  0.000000e+00   \n",
       "latitude                      77380.0  3.400837e+07  2.653905e+05   \n",
       "longitude                     77380.0 -1.182036e+08  3.594833e+05   \n",
       "lotsizesquarefeet             69141.0  2.996963e+04  1.233719e+05   \n",
       "poolcnt                       16137.0  1.000000e+00  0.000000e+00   \n",
       "poolsizesum                     867.0  5.179170e+02  1.567160e+02   \n",
       "pooltypeid10                    464.0  1.000000e+00  0.000000e+00   \n",
       "pooltypeid2                    1074.0  1.000000e+00  0.000000e+00   \n",
       "pooltypeid7                   15042.0  1.000000e+00  0.000000e+00   \n",
       "rawcensustractandblock        77380.0  6.049130e+07  2.059061e+05   \n",
       "regionidcity                  75909.0  3.367013e+04  4.716913e+04   \n",
       "regionidcounty                77380.0  2.534151e+03  8.015959e+02   \n",
       "regionidneighborhood          30890.0  1.877349e+05  1.651188e+05   \n",
       "regionidzip                   77330.0  9.658709e+04  3.798372e+03   \n",
       "roomcnt                       77380.0  1.476971e+00  2.824399e+00   \n",
       "threequarterbathnbr           10096.0  1.009608e+00  1.186301e-01   \n",
       "unitcnt                       50562.0  1.110023e+00  1.171166e+00   \n",
       "yardbuildingsqft17             2388.0  3.054112e+02  2.383928e+02   \n",
       "yardbuildingsqft26               70.0  2.163857e+02  1.901775e+02   \n",
       "yearbuilt                     77117.0  1.968636e+03  2.378617e+01   \n",
       "numberofstories               17560.0  1.434738e+00  5.445687e-01   \n",
       "fireplaceflag                   172.0  1.000000e+00  0.000000e+00   \n",
       "structuretaxvaluedollarcnt    77268.0  1.893160e+05  2.300886e+05   \n",
       "taxvaluedollarcnt             77379.0  4.901375e+05  6.534477e+05   \n",
       "assessmentyear                77380.0  2.016000e+03  0.000000e+00   \n",
       "landtaxvaluedollarcnt         77378.0  3.010969e+05  4.925990e+05   \n",
       "taxamount                     77375.0  5.995567e+03  7.622887e+03   \n",
       "taxdelinquencyyear             2886.0  1.408732e+01  2.185663e+00   \n",
       "censustractandblock           77136.0  6.049674e+13  1.535252e+12   \n",
       "logerror                      77380.0  1.662776e-02  1.701902e-01   \n",
       "pid                           77380.0  1.300715e+07  3.481368e+06   \n",
       "\n",
       "                                       min           25%           50%  \\\n",
       "parcelid                      1.071186e+07  1.153830e+07  1.253155e+07   \n",
       "typeconstructiontypeid        4.000000e+00  6.000000e+00  6.000000e+00   \n",
       "storytypeid                   7.000000e+00  7.000000e+00  7.000000e+00   \n",
       "propertylandusetypeid         3.100000e+01  2.610000e+02  2.610000e+02   \n",
       "heatingorsystemtypeid         1.000000e+00  2.000000e+00  2.000000e+00   \n",
       "buildingclasstypeid           3.000000e+00  4.000000e+00  4.000000e+00   \n",
       "architecturalstyletypeid      2.000000e+00  7.000000e+00  7.000000e+00   \n",
       "airconditioningtypeid         1.000000e+00  1.000000e+00  1.000000e+00   \n",
       "id                            3.490000e+02  7.520500e+05  1.497870e+06   \n",
       "basementsqft                  3.800000e+01  2.730000e+02  5.150000e+02   \n",
       "bathroomcnt                   0.000000e+00  2.000000e+00  2.000000e+00   \n",
       "bedroomcnt                    0.000000e+00  2.000000e+00  3.000000e+00   \n",
       "buildingqualitytypeid         1.000000e+00  6.000000e+00  6.000000e+00   \n",
       "calculatedbathnbr             1.000000e+00  2.000000e+00  2.000000e+00   \n",
       "decktypeid                    6.600000e+01  6.600000e+01  6.600000e+01   \n",
       "finishedfloor1squarefeet      4.400000e+01  9.550000e+02  1.257000e+03   \n",
       "calculatedfinishedsquarefeet  1.280000e+02  1.182000e+03  1.543000e+03   \n",
       "finishedsquarefeet12          1.280000e+02  1.172000e+03  1.523000e+03   \n",
       "finishedsquarefeet13          1.056000e+03  1.344000e+03  1.440000e+03   \n",
       "finishedsquarefeet15          5.980000e+02  1.625000e+03  2.094000e+03   \n",
       "finishedsquarefeet50          4.400000e+01  9.560000e+02  1.259000e+03   \n",
       "finishedsquarefeet6           3.800000e+02  9.937500e+02  1.812500e+03   \n",
       "fips                          6.037000e+03  6.037000e+03  6.037000e+03   \n",
       "fireplacecnt                  1.000000e+00  1.000000e+00  1.000000e+00   \n",
       "fullbathcnt                   1.000000e+00  2.000000e+00  2.000000e+00   \n",
       "garagecarcnt                  0.000000e+00  2.000000e+00  2.000000e+00   \n",
       "garagetotalsqft               0.000000e+00  0.000000e+00  4.360000e+02   \n",
       "hashottuborspa                1.000000e+00  1.000000e+00  1.000000e+00   \n",
       "latitude                      3.333953e+07  3.381457e+07  3.402200e+07   \n",
       "longitude                    -1.194754e+08 -1.184153e+08 -1.181808e+08   \n",
       "lotsizesquarefeet             2.360000e+02  5.700000e+03  7.206000e+03   \n",
       "poolcnt                       1.000000e+00  1.000000e+00  1.000000e+00   \n",
       "poolsizesum                   2.400000e+01  4.240000e+02  5.000000e+02   \n",
       "pooltypeid10                  1.000000e+00  1.000000e+00  1.000000e+00   \n",
       "pooltypeid2                   1.000000e+00  1.000000e+00  1.000000e+00   \n",
       "pooltypeid7                   1.000000e+00  1.000000e+00  1.000000e+00   \n",
       "rawcensustractandblock        6.037101e+07  6.037311e+07  6.037603e+07   \n",
       "regionidcity                  3.491000e+03  1.244700e+04  2.521800e+04   \n",
       "regionidcounty                1.286000e+03  1.286000e+03  3.101000e+03   \n",
       "regionidneighborhood          6.952000e+03  4.673600e+04  1.188490e+05   \n",
       "regionidzip                   9.598200e+04  9.619300e+04  9.638900e+04   \n",
       "roomcnt                       0.000000e+00  0.000000e+00  0.000000e+00   \n",
       "threequarterbathnbr           1.000000e+00  1.000000e+00  1.000000e+00   \n",
       "unitcnt                       1.000000e+00  1.000000e+00  1.000000e+00   \n",
       "yardbuildingsqft17            1.100000e+01  1.700000e+02  2.510000e+02   \n",
       "yardbuildingsqft26            1.200000e+01  6.150000e+01  1.645000e+02   \n",
       "yearbuilt                     1.824000e+03  1.953000e+03  1.970000e+03   \n",
       "numberofstories               1.000000e+00  1.000000e+00  1.000000e+00   \n",
       "fireplaceflag                 1.000000e+00  1.000000e+00  1.000000e+00   \n",
       "structuretaxvaluedollarcnt    4.400000e+01  8.426500e+04  1.364995e+05   \n",
       "taxvaluedollarcnt             1.000000e+03  2.070000e+05  3.589760e+05   \n",
       "assessmentyear                2.016000e+03  2.016000e+03  2.016000e+03   \n",
       "landtaxvaluedollarcnt         1.610000e+02  8.550400e+04  2.033835e+05   \n",
       "taxamount                     1.992000e+01  2.715585e+03  4.450720e+03   \n",
       "taxdelinquencyyear            3.000000e+00  1.400000e+01  1.500000e+01   \n",
       "censustractandblock           6.037101e+13  6.037311e+13  6.037603e+13   \n",
       "logerror                     -4.655420e+00 -2.437675e-02  6.627250e-03   \n",
       "pid                           1.071186e+07  1.153830e+07  1.253155e+07   \n",
       "\n",
       "                                       75%           max  \n",
       "parcelid                      1.421184e+07  1.676893e+08  \n",
       "typeconstructiontypeid        6.000000e+00  1.300000e+01  \n",
       "storytypeid                   7.000000e+00  7.000000e+00  \n",
       "propertylandusetypeid         2.660000e+02  2.750000e+02  \n",
       "heatingorsystemtypeid         7.000000e+00  2.400000e+01  \n",
       "buildingclasstypeid           4.000000e+00  4.000000e+00  \n",
       "architecturalstyletypeid      7.000000e+00  2.100000e+01  \n",
       "airconditioningtypeid         1.000000e+00  1.300000e+01  \n",
       "id                            2.240480e+06  2.982274e+06  \n",
       "basementsqft                  7.965000e+02  3.560000e+03  \n",
       "bathroomcnt                   3.000000e+00  1.800000e+01  \n",
       "bedroomcnt                    4.000000e+00  1.600000e+01  \n",
       "buildingqualitytypeid         8.000000e+00  1.200000e+01  \n",
       "calculatedbathnbr             3.000000e+00  1.800000e+01  \n",
       "decktypeid                    6.600000e+01  6.600000e+01  \n",
       "finishedfloor1squarefeet      1.615000e+03  6.912000e+03  \n",
       "calculatedfinishedsquarefeet  2.113000e+03  3.564000e+04  \n",
       "finishedsquarefeet12          2.076000e+03  2.192900e+04  \n",
       "finishedsquarefeet13          1.440000e+03  1.560000e+03  \n",
       "finishedsquarefeet15          2.838000e+03  3.564000e+04  \n",
       "finishedsquarefeet50          1.621500e+03  1.246700e+04  \n",
       "finishedsquarefeet6           3.053500e+03  5.598000e+03  \n",
       "fips                          6.059000e+03  6.111000e+03  \n",
       "fireplacecnt                  1.000000e+00  5.000000e+00  \n",
       "fullbathcnt                   3.000000e+00  1.800000e+01  \n",
       "garagecarcnt                  2.000000e+00  1.400000e+01  \n",
       "garagetotalsqft               4.930000e+02  4.251000e+03  \n",
       "hashottuborspa                1.000000e+00  1.000000e+00  \n",
       "latitude                      3.417439e+07  3.481877e+07  \n",
       "longitude                    -1.179284e+08 -1.175546e+08  \n",
       "lotsizesquarefeet             1.183100e+04  6.971010e+06  \n",
       "poolcnt                       1.000000e+00  1.000000e+00  \n",
       "poolsizesum                   6.000000e+02  1.500000e+03  \n",
       "pooltypeid10                  1.000000e+00  1.000000e+00  \n",
       "pooltypeid2                   1.000000e+00  1.000000e+00  \n",
       "pooltypeid7                   1.000000e+00  1.000000e+00  \n",
       "rawcensustractandblock        6.059042e+07  6.111009e+07  \n",
       "regionidcity                  4.545700e+04  3.965560e+05  \n",
       "regionidcounty                3.101000e+03  3.101000e+03  \n",
       "regionidneighborhood          2.747650e+05  7.641670e+05  \n",
       "regionidzip                   9.698700e+04  3.996750e+05  \n",
       "roomcnt                       0.000000e+00  1.500000e+01  \n",
       "threequarterbathnbr           1.000000e+00  7.000000e+00  \n",
       "unitcnt                       1.000000e+00  2.370000e+02  \n",
       "yardbuildingsqft17            3.640000e+02  3.191000e+03  \n",
       "yardbuildingsqft26            3.105000e+02  8.680000e+02  \n",
       "yearbuilt                     1.987000e+03  2.016000e+03  \n",
       "numberofstories               2.000000e+00  6.000000e+00  \n",
       "fireplaceflag                 1.000000e+00  1.000000e+00  \n",
       "structuretaxvaluedollarcnt    2.187875e+05  1.142179e+07  \n",
       "taxvaluedollarcnt             5.690030e+05  4.906124e+07  \n",
       "assessmentyear                2.016000e+03  2.016000e+03  \n",
       "landtaxvaluedollarcnt         3.668022e+05  4.895220e+07  \n",
       "taxamount                     6.927800e+03  5.866393e+05  \n",
       "taxdelinquencyyear            1.500000e+01  9.900000e+01  \n",
       "censustractandblock           6.059042e+13  4.830301e+14  \n",
       "logerror                      3.920424e-02  5.262999e+00  \n",
       "pid                           1.421184e+07  1.676893e+08  "
      ]
     },
     "execution_count": 7,
     "metadata": {},
     "output_type": "execute_result"
    }
   ],
   "source": [
    "df.describe().T"
   ]
  },
  {
   "cell_type": "code",
   "execution_count": 8,
   "metadata": {},
   "outputs": [
    {
     "data": {
      "image/png": "[encoded data removed]",
      "text/plain": [
       "<Figure size 288x216 with 1 Axes>"
      ]
     },
     "metadata": {
      "needs_background": "light"
     },
     "output_type": "display_data"
    },
    {
     "data": {
      "image/png": "[encoded data removed]",
      "text/plain": [
       "<Figure size 288x216 with 1 Axes>"
      ]
     },
     "metadata": {
      "needs_background": "light"
     },
     "output_type": "display_data"
    },
    {
     "data": {
      "image/png": "[encoded data removed]",
      "text/plain": [
       "<Figure size 288x216 with 1 Axes>"
      ]
     },
     "metadata": {
      "needs_background": "light"
     },
     "output_type": "display_data"
    },
    {
     "data": {
      "image/png": "[encoded data removed]",
      "text/plain": [
       "<Figure size 288x216 with 1 Axes>"
      ]
     },
     "metadata": {
      "needs_background": "light"
     },
     "output_type": "display_data"
    },
    {
     "data": {
      "image/png": "[encoded data removed]",
      "text/plain": [
       "<Figure size 288x216 with 1 Axes>"
      ]
     },
     "metadata": {
      "needs_background": "light"
     },
     "output_type": "display_data"
    },
    {
     "data": {
      "image/png": "[encoded data removed]",
      "text/plain": [
       "<Figure size 288x216 with 1 Axes>"
      ]
     },
     "metadata": {
      "needs_background": "light"
     },
     "output_type": "display_data"
    },
    {
     "data": {
      "image/png": "[encoded data removed]",
      "text/plain": [
       "<Figure size 288x216 with 1 Axes>"
      ]
     },
     "metadata": {
      "needs_background": "light"
     },
     "output_type": "display_data"
    },
    {
     "data": {
      "image/png": "[encoded data removed]",
      "text/plain": [
       "<Figure size 288x216 with 1 Axes>"
      ]
     },
     "metadata": {
      "needs_background": "light"
     },
     "output_type": "display_data"
    },
    {
     "data": {
      "image/png": "[encoded data removed]",
      "text/plain": [
       "<Figure size 288x216 with 1 Axes>"
      ]
     },
     "metadata": {
      "needs_background": "light"
     },
     "output_type": "display_data"
    },
    {
     "data": {
      "image/png": "[encoded data removed]",
      "text/plain": [
       "<Figure size 288x216 with 1 Axes>"
      ]
     },
     "metadata": {
      "needs_background": "light"
     },
     "output_type": "display_data"
    },
    {
     "data": {
      "image/png": "[encoded data removed]",
      "text/plain": [
       "<Figure size 288x216 with 1 Axes>"
      ]
     },
     "metadata": {
      "needs_background": "light"
     },
     "output_type": "display_data"
    },
    {
     "data": {
      "image/png": "[encoded data removed]",
      "text/plain": [
       "<Figure size 288x216 with 1 Axes>"
      ]
     },
     "metadata": {
      "needs_background": "light"
     },
     "output_type": "display_data"
    },
    {
     "data": {
      "image/png": "[encoded data removed]",
      "text/plain": [
       "<Figure size 288x216 with 1 Axes>"
      ]
     },
     "metadata": {
      "needs_background": "light"
     },
     "output_type": "display_data"
    },
    {
     "data": {
      "image/png": "[encoded data removed]",
      "text/plain": [
       "<Figure size 288x216 with 1 Axes>"
      ]
     },
     "metadata": {
      "needs_background": "light"
     },
     "output_type": "display_data"
    },
    {
     "data": {
      "image/png": "[encoded data removed]",
      "text/plain": [
       "<Figure size 288x216 with 1 Axes>"
      ]
     },
     "metadata": {
      "needs_background": "light"
     },
     "output_type": "display_data"
    },
    {
     "data": {
      "image/png": "[encoded data removed]",
      "text/plain": [
       "<Figure size 288x216 with 1 Axes>"
      ]
     },
     "metadata": {
      "needs_background": "light"
     },
     "output_type": "display_data"
    },
    {
     "data": {
      "image/png": "[encoded data removed]",
      "text/plain": [
       "<Figure size 288x216 with 1 Axes>"
      ]
     },
     "metadata": {
      "needs_background": "light"
     },
     "output_type": "display_data"
    },
    {
     "data": {
      "image/png": "[encoded data removed]",
      "text/plain": [
       "<Figure size 288x216 with 1 Axes>"
      ]
     },
     "metadata": {
      "needs_background": "light"
     },
     "output_type": "display_data"
    },
    {
     "data": {
      "image/png": "[encoded data removed]",
      "text/plain": [
       "<Figure size 288x216 with 1 Axes>"
      ]
     },
     "metadata": {
      "needs_background": "light"
     },
     "output_type": "display_data"
    },
    {
     "data": {
      "image/png": "[encoded data removed]",
      "text/plain": [
       "<Figure size 288x216 with 1 Axes>"
      ]
     },
     "metadata": {
      "needs_background": "light"
     },
     "output_type": "display_data"
    },
    {
     "data": {
      "image/png": "[encoded data removed]",
      "text/plain": [
       "<Figure size 288x216 with 1 Axes>"
      ]
     },
     "metadata": {
      "needs_background": "light"
     },
     "output_type": "display_data"
    },
    {
     "data": {
      "image/png": "[encoded data removed]",
      "text/plain": [
       "<Figure size 288x216 with 1 Axes>"
      ]
     },
     "metadata": {
      "needs_background": "light"
     },
     "output_type": "display_data"
    },
    {
     "data": {
      "image/png": "[encoded data removed]",
      "text/plain": [
       "<Figure size 288x216 with 1 Axes>"
      ]
     },
     "metadata": {
      "needs_background": "light"
     },
     "output_type": "display_data"
    },
    {
     "data": {
      "image/png": "[encoded data removed]",
      "text/plain": [
       "<Figure size 288x216 with 1 Axes>"
      ]
     },
     "metadata": {
      "needs_background": "light"
     },
     "output_type": "display_data"
    },
    {
     "data": {
      "image/png": "[encoded data removed]",
      "text/plain": [
       "<Figure size 288x216 with 1 Axes>"
      ]
     },
     "metadata": {
      "needs_background": "light"
     },
     "output_type": "display_data"
    },
    {
     "data": {
      "image/png": "[encoded data removed]",
      "text/plain": [
       "<Figure size 288x216 with 1 Axes>"
      ]
     },
     "metadata": {
      "needs_background": "light"
     },
     "output_type": "display_data"
    },
    {
     "data": {
      "image/png": "[encoded data removed]",
      "text/plain": [
       "<Figure size 288x216 with 1 Axes>"
      ]
     },
     "metadata": {
      "needs_background": "light"
     },
     "output_type": "display_data"
    },
    {
     "data": {
      "image/png": "[encoded data removed]",
      "text/plain": [
       "<Figure size 288x216 with 1 Axes>"
      ]
     },
     "metadata": {
      "needs_background": "light"
     },
     "output_type": "display_data"
    },
    {
     "data": {
      "image/png": "[encoded data removed]",
      "text/plain": [
       "<Figure size 288x216 with 1 Axes>"
      ]
     },
     "metadata": {
      "needs_background": "light"
     },
     "output_type": "display_data"
    },
    {
     "data": {
      "image/png": "[encoded data removed]",
      "text/plain": [
       "<Figure size 288x216 with 1 Axes>"
      ]
     },
     "metadata": {
      "needs_background": "light"
     },
     "output_type": "display_data"
    },
    {
     "data": {
      "image/png": "[encoded data removed]",
      "text/plain": [
       "<Figure size 288x216 with 1 Axes>"
      ]
     },
     "metadata": {
      "needs_background": "light"
     },
     "output_type": "display_data"
    },
    {
     "data": {
      "image/png": "[encoded data removed]",
      "text/plain": [
       "<Figure size 288x216 with 1 Axes>"
      ]
     },
     "metadata": {
      "needs_background": "light"
     },
     "output_type": "display_data"
    },
    {
     "data": {
      "image/png": "[encoded data removed]",
      "text/plain": [
       "<Figure size 288x216 with 1 Axes>"
      ]
     },
     "metadata": {
      "needs_background": "light"
     },
     "output_type": "display_data"
    },
    {
     "data": {
      "image/png": "[encoded data removed]",
      "text/plain": [
       "<Figure size 288x216 with 1 Axes>"
      ]
     },
     "metadata": {
      "needs_background": "light"
     },
     "output_type": "display_data"
    },
    {
     "data": {
      "image/png": "[encoded data removed]",
      "text/plain": [
       "<Figure size 288x216 with 1 Axes>"
      ]
     },
     "metadata": {
      "needs_background": "light"
     },
     "output_type": "display_data"
    },
    {
     "data": {
      "image/png": "[encoded data removed]",
      "text/plain": [
       "<Figure size 288x216 with 1 Axes>"
      ]
     },
     "metadata": {
      "needs_background": "light"
     },
     "output_type": "display_data"
    },
    {
     "data": {
      "image/png": "[encoded data removed]",
      "text/plain": [
       "<Figure size 288x216 with 1 Axes>"
      ]
     },
     "metadata": {
      "needs_background": "light"
     },
     "output_type": "display_data"
    },
    {
     "data": {
      "image/png": "[encoded data removed]",
      "text/plain": [
       "<Figure size 288x216 with 1 Axes>"
      ]
     },
     "metadata": {
      "needs_background": "light"
     },
     "output_type": "display_data"
    },
    {
     "data": {
      "image/png": "[encoded data removed]",
      "text/plain": [
       "<Figure size 288x216 with 1 Axes>"
      ]
     },
     "metadata": {
      "needs_background": "light"
     },
     "output_type": "display_data"
    },
    {
     "data": {
      "image/png": "[encoded data removed]",
      "text/plain": [
       "<Figure size 288x216 with 1 Axes>"
      ]
     },
     "metadata": {
      "needs_background": "light"
     },
     "output_type": "display_data"
    },
    {
     "data": {
      "image/png": "[encoded data removed]",
      "text/plain": [
       "<Figure size 288x216 with 1 Axes>"
      ]
     },
     "metadata": {
      "needs_background": "light"
     },
     "output_type": "display_data"
    },
    {
     "data": {
      "image/png": "[encoded data removed]",
      "text/plain": [
       "<Figure size 288x216 with 1 Axes>"
      ]
     },
     "metadata": {
      "needs_background": "light"
     },
     "output_type": "display_data"
    },
    {
     "data": {
      "image/png": "[encoded data removed]",
      "text/plain": [
       "<Figure size 288x216 with 1 Axes>"
      ]
     },
     "metadata": {
      "needs_background": "light"
     },
     "output_type": "display_data"
    },
    {
     "data": {
      "image/png": "[encoded data removed]",
      "text/plain": [
       "<Figure size 288x216 with 1 Axes>"
      ]
     },
     "metadata": {
      "needs_background": "light"
     },
     "output_type": "display_data"
    },
    {
     "data": {
      "image/png": "[encoded data removed]",
      "text/plain": [
       "<Figure size 288x216 with 1 Axes>"
      ]
     },
     "metadata": {
      "needs_background": "light"
     },
     "output_type": "display_data"
    },
    {
     "data": {
      "image/png": "[encoded data removed]",
      "text/plain": [
       "<Figure size 288x216 with 1 Axes>"
      ]
     },
     "metadata": {
      "needs_background": "light"
     },
     "output_type": "display_data"
    },
    {
     "data": {
      "image/png": "[encoded data removed]",
      "text/plain": [
       "<Figure size 288x216 with 1 Axes>"
      ]
     },
     "metadata": {
      "needs_background": "light"
     },
     "output_type": "display_data"
    },
    {
     "data": {
      "image/png": "[encoded data removed]",
      "text/plain": [
       "<Figure size 288x216 with 1 Axes>"
      ]
     },
     "metadata": {
      "needs_background": "light"
     },
     "output_type": "display_data"
    },
    {
     "data": {
      "image/png": "[encoded data removed]",
      "text/plain": [
       "<Figure size 288x216 with 1 Axes>"
      ]
     },
     "metadata": {
      "needs_background": "light"
     },
     "output_type": "display_data"
    },
    {
     "data": {
      "image/png": "[encoded data removed]",
      "text/plain": [
       "<Figure size 288x216 with 1 Axes>"
      ]
     },
     "metadata": {
      "needs_background": "light"
     },
     "output_type": "display_data"
    },
    {
     "data": {
      "image/png": "[encoded data removed]",
      "text/plain": [
       "<Figure size 288x216 with 1 Axes>"
      ]
     },
     "metadata": {
      "needs_background": "light"
     },
     "output_type": "display_data"
    },
    {
     "data": {
      "image/png": "[encoded data removed]",
      "text/plain": [
       "<Figure size 288x216 with 1 Axes>"
      ]
     },
     "metadata": {
      "needs_background": "light"
     },
     "output_type": "display_data"
    },
    {
     "data": {
      "image/png": "[encoded data removed]",
      "text/plain": [
       "<Figure size 288x216 with 1 Axes>"
      ]
     },
     "metadata": {
      "needs_background": "light"
     },
     "output_type": "display_data"
    },
    {
     "data": {
      "image/png": "[encoded data removed]",
      "text/plain": [
       "<Figure size 288x216 with 1 Axes>"
      ]
     },
     "metadata": {
      "needs_background": "light"
     },
     "output_type": "display_data"
    },
    {
     "data": {
      "image/png": "[encoded data removed]",
      "text/plain": [
       "<Figure size 288x216 with 1 Axes>"
      ]
     },
     "metadata": {
      "needs_background": "light"
     },
     "output_type": "display_data"
    },
    {
     "data": {
      "image/png": "[encoded data removed]",
      "text/plain": [
       "<Figure size 288x216 with 1 Axes>"
      ]
     },
     "metadata": {
      "needs_background": "light"
     },
     "output_type": "display_data"
    },
    {
     "data": {
      "image/png": "[encoded data removed]",
      "text/plain": [
       "<Figure size 288x216 with 1 Axes>"
      ]
     },
     "metadata": {
      "needs_background": "light"
     },
     "output_type": "display_data"
    },
    {
     "data": {
      "image/png": "[encoded data removed]",
      "text/plain": [
       "<Figure size 288x216 with 1 Axes>"
      ]
     },
     "metadata": {
      "needs_background": "light"
     },
     "output_type": "display_data"
    }
   ],
   "source": [
    "for col in df.columns:\n",
    "    if df[col].dtype != object:\n",
    "        plt.figure(figsize=(4,3))\n",
    "        plt.hist(df[col])\n",
    "        plt.title(col)\n",
    "        plt.show()"
   ]
  },
  {
   "cell_type": "code",
   "execution_count": 9,
   "metadata": {},
   "outputs": [
    {
     "name": "stdout",
     "output_type": "stream",
     "text": [
      "\n",
      "\n",
      "12086286    1\n",
      "13842812    1\n",
      "17089101    1\n",
      "14604878    1\n",
      "11149905    1\n",
      "           ..\n",
      "13926436    1\n",
      "10832543    1\n",
      "11078987    1\n",
      "11089228    1\n",
      "14298875    1\n",
      "Name: parcelid, Length: 77380, dtype: int64\n",
      "\n",
      "\n",
      "\n",
      "\n",
      "6.0     219\n",
      "4.0       1\n",
      "13.0      1\n",
      "10.0      1\n",
      "Name: typeconstructiontypeid, dtype: int64\n",
      "\n",
      "\n",
      "\n",
      "\n",
      "7.0    50\n",
      "Name: storytypeid, dtype: int64\n",
      "\n",
      "\n",
      "\n",
      "\n",
      "261.0    52319\n",
      "266.0    19294\n",
      "246.0     2009\n",
      "269.0     1944\n",
      "248.0      727\n",
      "247.0      535\n",
      "265.0      333\n",
      "263.0       74\n",
      "275.0       58\n",
      "260.0       37\n",
      "267.0       29\n",
      "31.0        15\n",
      "264.0        6\n",
      "Name: propertylandusetypeid, dtype: int64\n",
      "\n",
      "\n",
      "\n",
      "\n",
      "2.0     33550\n",
      "7.0     14064\n",
      "24.0      846\n",
      "6.0       776\n",
      "20.0      104\n",
      "13.0       59\n",
      "18.0       23\n",
      "1.0        13\n",
      "10.0        3\n",
      "11.0        1\n",
      "Name: heatingorsystemtypeid, dtype: int64\n",
      "\n",
      "\n",
      "\n",
      "\n",
      "4.0    14\n",
      "3.0     1\n",
      "Name: buildingclasstypeid, dtype: int64\n",
      "\n",
      "\n",
      "\n",
      "\n",
      "7.0     172\n",
      "8.0      19\n",
      "21.0      7\n",
      "2.0       5\n",
      "3.0       3\n",
      "Name: architecturalstyletypeid, dtype: int64\n",
      "\n",
      "\n",
      "\n",
      "\n",
      "1.0     23133\n",
      "13.0     1574\n",
      "5.0       167\n",
      "11.0       53\n",
      "9.0        26\n",
      "Name: airconditioningtypeid, dtype: int64\n",
      "\n",
      "\n",
      "\n",
      "\n",
      "657407     1\n",
      "2052799    1\n",
      "2132676    1\n",
      "1499003    1\n",
      "2267846    1\n",
      "          ..\n",
      "2069784    1\n",
      "1285401    1\n",
      "2592027    1\n",
      "2604317    1\n",
      "2392597    1\n",
      "Name: id, Length: 77380, dtype: int64\n",
      "\n",
      "\n",
      "\n",
      "\n",
      "700.0     2\n",
      "515.0     2\n",
      "900.0     2\n",
      "912.0     2\n",
      "640.0     2\n",
      "273.0     2\n",
      "100.0     2\n",
      "3560.0    1\n",
      "669.0     1\n",
      "252.0     1\n",
      "405.0     1\n",
      "674.0     1\n",
      "600.0     1\n",
      "394.0     1\n",
      "396.0     1\n",
      "819.0     1\n",
      "786.0     1\n",
      "3112.0    1\n",
      "1809.0    1\n",
      "645.0     1\n",
      "512.0     1\n",
      "204.0     1\n",
      "168.0     1\n",
      "380.0     1\n",
      "352.0     1\n",
      "254.0     1\n",
      "280.0     1\n",
      "314.0     1\n",
      "1252.0    1\n",
      "112.0     1\n",
      "126.0     1\n",
      "800.0     1\n",
      "1218.0    1\n",
      "384.0     1\n",
      "38.0      1\n",
      "604.0     1\n",
      "1969.0    1\n",
      "300.0     1\n",
      "90.0      1\n",
      "588.0     1\n",
      "200.0     1\n",
      "1416.0    1\n",
      "224.0     1\n",
      "Name: basementsqft, dtype: int64\n",
      "\n",
      "\n",
      "\n",
      "\n",
      "2.0     31484\n",
      "3.0     17313\n",
      "1.0     12902\n",
      "2.5      6604\n",
      "4.0      3352\n",
      "1.5      1415\n",
      "3.5      1034\n",
      "5.0      1026\n",
      "4.5       695\n",
      "0.0       592\n",
      "6.0       417\n",
      "5.5       224\n",
      "7.0       113\n",
      "8.0       108\n",
      "6.5        47\n",
      "9.0        23\n",
      "7.5        16\n",
      "10.0        7\n",
      "8.5         3\n",
      "11.0        3\n",
      "13.0        1\n",
      "18.0        1\n",
      "Name: bathroomcnt, dtype: int64\n",
      "\n",
      "\n",
      "\n",
      "\n",
      "3.0     30361\n",
      "2.0     19169\n",
      "4.0     17513\n",
      "5.0      4543\n",
      "1.0      3379\n",
      "6.0       998\n",
      "0.0       830\n",
      "8.0       252\n",
      "7.0       208\n",
      "9.0        70\n",
      "10.0       31\n",
      "12.0       14\n",
      "11.0        8\n",
      "13.0        2\n",
      "16.0        1\n",
      "14.0        1\n",
      "Name: bedroomcnt, dtype: int64\n",
      "\n",
      "\n",
      "\n",
      "\n",
      "8.0     14645\n",
      "6.0     13462\n",
      "4.0      9482\n",
      "7.0      5971\n",
      "9.0      2299\n",
      "5.0      2088\n",
      "11.0      931\n",
      "3.0       329\n",
      "10.0      313\n",
      "12.0      116\n",
      "1.0        26\n",
      "2.0         9\n",
      "Name: buildingqualitytypeid, dtype: int64\n",
      "\n",
      "\n",
      "\n",
      "\n",
      "2.0     31484\n",
      "3.0     17313\n",
      "1.0     12902\n",
      "2.5      6595\n",
      "4.0      3352\n",
      "1.5      1408\n",
      "3.5      1034\n",
      "5.0      1026\n",
      "4.5       695\n",
      "6.0       417\n",
      "5.5       223\n",
      "7.0       113\n",
      "8.0       108\n",
      "6.5        47\n",
      "9.0        23\n",
      "7.5        16\n",
      "10.0        7\n",
      "8.5         3\n",
      "11.0        3\n",
      "13.0        1\n",
      "18.0        1\n",
      "Name: calculatedbathnbr, dtype: int64\n",
      "\n",
      "\n",
      "\n",
      "\n",
      "66.0    614\n",
      "Name: decktypeid, dtype: int64\n",
      "\n",
      "\n",
      "\n",
      "\n",
      "1252.0    22\n",
      "1205.0    21\n",
      "780.0     21\n",
      "1462.0    21\n",
      "1498.0    21\n",
      "          ..\n",
      "2358.0     1\n",
      "6553.0     1\n",
      "1981.0     1\n",
      "2761.0     1\n",
      "1855.0     1\n",
      "Name: finishedfloor1squarefeet, Length: 1787, dtype: int64\n",
      "\n",
      "\n",
      "\n",
      "\n",
      "1200.0    181\n",
      "1120.0    169\n",
      "1440.0    147\n",
      "1080.0    132\n",
      "1260.0    120\n",
      "         ... \n",
      "6141.0      1\n",
      "4682.0      1\n",
      "5417.0      1\n",
      "5906.0      1\n",
      "3306.0      1\n",
      "Name: calculatedfinishedsquarefeet, Length: 4972, dtype: int64\n",
      "\n",
      "\n",
      "\n",
      "\n",
      "1200.0    176\n",
      "1120.0    165\n",
      "1080.0    131\n",
      "1440.0    120\n",
      "1260.0    116\n",
      "         ... \n",
      "8609.0      1\n",
      "8610.0      1\n",
      "3575.0      1\n",
      "6494.0      1\n",
      "4839.0      1\n",
      "Name: finishedsquarefeet12, Length: 4868, dtype: int64\n",
      "\n",
      "\n",
      "\n",
      "\n",
      "1440.0    18\n",
      "1344.0     5\n",
      "1488.0     3\n",
      "1536.0     3\n",
      "1248.0     2\n",
      "1152.0     2\n",
      "1392.0     2\n",
      "1512.0     1\n",
      "1200.0     1\n",
      "1060.0     1\n",
      "1056.0     1\n",
      "1560.0     1\n",
      "1300.0     1\n",
      "Name: finishedsquarefeet13, dtype: int64\n",
      "\n",
      "\n",
      "\n",
      "\n",
      "1680.0    16\n",
      "1536.0    12\n",
      "2016.0    12\n",
      "1600.0    10\n",
      "1440.0     9\n",
      "          ..\n",
      "2360.0     1\n",
      "2865.0     1\n",
      "2830.0     1\n",
      "4673.0     1\n",
      "2295.0     1\n",
      "Name: finishedsquarefeet15, Length: 1724, dtype: int64\n",
      "\n",
      "\n",
      "\n",
      "\n",
      "1252.0    22\n",
      "1498.0    21\n",
      "780.0     21\n",
      "1462.0    21\n",
      "1205.0    21\n",
      "          ..\n",
      "2290.0     1\n",
      "640.0      1\n",
      "695.0      1\n",
      "2062.0     1\n",
      "3070.0     1\n",
      "Name: finishedsquarefeet50, Length: 1807, dtype: int64\n",
      "\n",
      "\n",
      "\n",
      "\n",
      "952.0     4\n",
      "3552.0    3\n",
      "3500.0    3\n",
      "520.0     3\n",
      "750.0     3\n",
      "         ..\n",
      "761.0     1\n",
      "1441.0    1\n",
      "2372.0    1\n",
      "1443.0    1\n",
      "1792.0    1\n",
      "Name: finishedsquarefeet6, Length: 350, dtype: int64\n",
      "\n",
      "\n",
      "\n",
      "\n",
      "6037.0    50550\n",
      "6059.0    20593\n",
      "6111.0     6237\n",
      "Name: fips, dtype: int64\n",
      "\n",
      "\n",
      "\n",
      "\n",
      "1.0    7008\n",
      "2.0     995\n",
      "3.0     235\n",
      "4.0      35\n",
      "5.0       3\n",
      "Name: fireplacecnt, dtype: int64\n",
      "\n",
      "\n",
      "\n",
      "\n",
      "2.0     38096\n",
      "3.0     18351\n",
      "1.0     14310\n",
      "4.0      4048\n",
      "5.0      1245\n",
      "6.0       454\n",
      "7.0       121\n",
      "8.0       111\n",
      "9.0        23\n",
      "10.0        7\n",
      "11.0        3\n",
      "13.0        1\n",
      "18.0        1\n",
      "Name: fullbathcnt, dtype: int64\n",
      "\n",
      "\n",
      "\n",
      "\n",
      "2.0     18608\n",
      "1.0      5676\n",
      "3.0       632\n",
      "4.0       255\n",
      "0.0       230\n",
      "5.0        45\n",
      "6.0        14\n",
      "7.0         4\n",
      "10.0        3\n",
      "9.0         2\n",
      "8.0         2\n",
      "13.0        1\n",
      "11.0        1\n",
      "14.0        1\n",
      "Name: garagecarcnt, dtype: int64\n",
      "\n",
      "\n",
      "\n",
      "\n",
      "0.0       7685\n",
      "400.0      786\n",
      "441.0      678\n",
      "462.0      658\n",
      "360.0      646\n",
      "          ... \n",
      "820.0        1\n",
      "1296.0       1\n",
      "785.0        1\n",
      "1006.0       1\n",
      "263.0        1\n",
      "Name: garagetotalsqft, Length: 839, dtype: int64\n",
      "\n",
      "\n",
      "\n",
      "\n",
      "1.0    1538\n",
      "Name: hashottuborspa, dtype: int64\n",
      "\n",
      "\n",
      "\n",
      "\n",
      "33984600.0    40\n",
      "33665651.0    38\n",
      "33766300.0    34\n",
      "34056700.0    32\n",
      "34225100.0    29\n",
      "              ..\n",
      "34089896.0     1\n",
      "33820454.0     1\n",
      "34091694.0     1\n",
      "34085305.0     1\n",
      "33554493.0     1\n",
      "Name: latitude, Length: 64037, dtype: int64\n",
      "\n",
      "\n",
      "\n",
      "\n",
      "-118438000.0    63\n",
      "-118435000.0    62\n",
      "-118445000.0    60\n",
      "-118390000.0    60\n",
      "-118377000.0    59\n",
      "                ..\n",
      "-118406178.0     1\n",
      "-118433924.0     1\n",
      "-117953672.0     1\n",
      "-118248971.0     1\n",
      "-117692925.0     1\n",
      "Name: longitude, Length: 62460, dtype: int64\n",
      "\n",
      "\n",
      "\n",
      "\n",
      "6000.0     892\n",
      "5000.0     437\n",
      "7200.0     314\n",
      "7000.0     297\n",
      "6500.0     294\n",
      "          ... \n",
      "17018.0      1\n",
      "31968.0      1\n",
      "15503.0      1\n",
      "2176.0       1\n",
      "19716.0      1\n",
      "Name: lotsizesquarefeet, Length: 18848, dtype: int64\n",
      "\n",
      "\n",
      "\n",
      "\n",
      "1.0    16137\n",
      "Name: poolcnt, dtype: int64\n",
      "\n",
      "\n",
      "\n",
      "\n",
      "450.0    90\n",
      "400.0    38\n",
      "500.0    30\n",
      "600.0    27\n",
      "512.0    25\n",
      "         ..\n",
      "290.0     1\n",
      "414.0     1\n",
      "498.0     1\n",
      "582.0     1\n",
      "554.0     1\n",
      "Name: poolsizesum, Length: 262, dtype: int64\n",
      "\n",
      "\n",
      "\n",
      "\n",
      "1.0    464\n",
      "Name: pooltypeid10, dtype: int64\n",
      "\n",
      "\n",
      "\n",
      "\n",
      "1.0    1074\n",
      "Name: pooltypeid2, dtype: int64\n",
      "\n",
      "\n",
      "\n",
      "\n",
      "1.0    15042\n",
      "Name: pooltypeid7, dtype: int64\n",
      "\n",
      "\n",
      "\n",
      "\n",
      "0100    26713\n",
      "122     13045\n",
      "010C     8813\n",
      "0101     6399\n",
      "34       4922\n",
      "        ...  \n",
      "010L        1\n",
      "020E        1\n",
      "020G        1\n",
      "030G        1\n",
      "0204        1\n",
      "Name: propertycountylandusecode, Length: 75, dtype: int64\n",
      "\n",
      "\n",
      "\n",
      "\n",
      "LAR1          6747\n",
      "LAR3          2437\n",
      "LARS          1389\n",
      "LBR1N         1222\n",
      "LARD1.5       1127\n",
      "              ... \n",
      "MNRAYY           1\n",
      "POC4             1\n",
      "LVPR3D-A1-       1\n",
      "R1               1\n",
      "MNR3D17H25       1\n",
      "Name: propertyzoningdesc, Length: 1907, dtype: int64\n",
      "\n",
      "\n",
      "\n",
      "\n",
      "6.059063e+07    60\n",
      "6.037137e+07    60\n",
      "6.037920e+07    58\n",
      "6.037277e+07    51\n",
      "6.059032e+07    43\n",
      "                ..\n",
      "6.037110e+07     1\n",
      "6.037403e+07     1\n",
      "6.059022e+07     1\n",
      "6.037143e+07     1\n",
      "6.059087e+07     1\n",
      "Name: rawcensustractandblock, Length: 39191, dtype: int64\n",
      "\n",
      "\n",
      "\n",
      "\n",
      "12447.0     17948\n",
      "46298.0      2588\n",
      "5534.0       1912\n",
      "54311.0      1880\n",
      "52650.0      1669\n",
      "            ...  \n",
      "13311.0         5\n",
      "118880.0        5\n",
      "10815.0         4\n",
      "21395.0         1\n",
      "36078.0         1\n",
      "Name: regionidcity, Length: 175, dtype: int64\n",
      "\n",
      "\n",
      "\n",
      "\n",
      "3101.0    50550\n",
      "1286.0    20593\n",
      "2061.0     6237\n",
      "Name: regionidcounty, dtype: int64\n",
      "\n",
      "\n",
      "\n",
      "\n",
      "27080.0     717\n",
      "48570.0     704\n",
      "37739.0     684\n",
      "118208.0    669\n",
      "51906.0     549\n",
      "           ... \n",
      "764146.0      1\n",
      "764145.0      1\n",
      "249692.0      1\n",
      "761000.0      1\n",
      "764138.0      1\n",
      "Name: regionidneighborhood, Length: 480, dtype: int64\n",
      "\n",
      "\n",
      "\n",
      "\n",
      "97319.0    825\n",
      "96987.0    753\n",
      "97318.0    708\n",
      "97118.0    613\n",
      "96974.0    593\n",
      "          ... \n",
      "96039.0      2\n",
      "97088.0      1\n",
      "97092.0      1\n",
      "97111.0      1\n",
      "96467.0      1\n",
      "Name: regionidzip, Length: 389, dtype: int64\n",
      "\n",
      "\n",
      "\n",
      "\n",
      "0.0     59807\n",
      "6.0      4513\n",
      "7.0      3838\n",
      "5.0      3016\n",
      "8.0      2872\n",
      "4.0      1415\n",
      "9.0      1193\n",
      "10.0      339\n",
      "3.0       211\n",
      "11.0      108\n",
      "12.0       35\n",
      "2.0        15\n",
      "13.0       10\n",
      "14.0        6\n",
      "15.0        1\n",
      "1.0         1\n",
      "Name: roomcnt, dtype: int64\n",
      "\n",
      "\n",
      "\n",
      "\n",
      "1.0    10012\n",
      "2.0       75\n",
      "3.0        8\n",
      "7.0        1\n",
      "Name: threequarterbathnbr, dtype: int64\n",
      "\n",
      "\n",
      "\n",
      "\n",
      "1.0      47292\n",
      "2.0       2018\n",
      "4.0        723\n",
      "3.0        525\n",
      "6.0          1\n",
      "45.0         1\n",
      "237.0        1\n",
      "42.0         1\n",
      "Name: unitcnt, dtype: int64\n",
      "\n",
      "\n",
      "\n",
      "\n",
      "200.0    103\n",
      "240.0     76\n",
      "300.0     50\n",
      "180.0     42\n",
      "120.0     38\n",
      "        ... \n",
      "214.0      1\n",
      "122.0      1\n",
      "76.0       1\n",
      "786.0      1\n",
      "166.0      1\n",
      "Name: yardbuildingsqft17, Length: 540, dtype: int64\n",
      "\n",
      "\n",
      "\n",
      "\n",
      "120.0    3\n",
      "30.0     3\n",
      "56.0     2\n",
      "88.0     2\n",
      "33.0     2\n",
      "240.0    2\n",
      "300.0    2\n",
      "144.0    2\n",
      "448.0    2\n",
      "169.0    1\n",
      "414.0    1\n",
      "49.0     1\n",
      "368.0    1\n",
      "140.0    1\n",
      "462.0    1\n",
      "575.0    1\n",
      "360.0    1\n",
      "174.0    1\n",
      "12.0     1\n",
      "41.0     1\n",
      "21.0     1\n",
      "231.0    1\n",
      "461.0    1\n",
      "133.0    1\n",
      "160.0    1\n",
      "196.0    1\n",
      "216.0    1\n",
      "195.0    1\n",
      "72.0     1\n",
      "113.0    1\n",
      "284.0    1\n",
      "39.0     1\n",
      "16.0     1\n",
      "37.0     1\n",
      "336.0    1\n",
      "314.0    1\n",
      "91.0     1\n",
      "752.0    1\n",
      "180.0    1\n",
      "218.0    1\n",
      "250.0    1\n",
      "868.0    1\n",
      "28.0     1\n",
      "384.0    1\n",
      "108.0    1\n",
      "648.0    1\n",
      "48.0     1\n",
      "204.0    1\n",
      "491.0    1\n",
      "66.0     1\n",
      "292.0    1\n",
      "576.0    1\n",
      "320.0    1\n",
      "45.0     1\n",
      "486.0    1\n",
      "105.0    1\n",
      "71.0     1\n",
      "60.0     1\n",
      "200.0    1\n",
      "Name: yardbuildingsqft26, dtype: int64\n",
      "\n",
      "\n",
      "\n",
      "\n",
      "1955.0    1969\n",
      "1989.0    1787\n",
      "1950.0    1673\n",
      "1964.0    1642\n",
      "1954.0    1583\n",
      "          ... \n",
      "1882.0       1\n",
      "1880.0       1\n",
      "1878.0       1\n",
      "1866.0       1\n",
      "1824.0       1\n",
      "Name: yearbuilt, Length: 136, dtype: int64\n",
      "\n",
      "\n",
      "\n",
      "\n",
      "1.0    10366\n",
      "2.0     6757\n",
      "3.0      436\n",
      "6.0        1\n",
      "Name: numberofstories, dtype: int64\n",
      "\n",
      "\n",
      "\n",
      "\n",
      "1.0    172\n",
      "Name: fireplaceflag, dtype: int64\n",
      "\n",
      "\n",
      "\n",
      "\n"
     ]
    },
    {
     "name": "stdout",
     "output_type": "stream",
     "text": [
      "100000.0    82\n",
      "200000.0    58\n",
      "203050.0    55\n",
      "90000.0     52\n",
      "95000.0     49\n",
      "            ..\n",
      "252568.0     1\n",
      "600234.0     1\n",
      "329176.0     1\n",
      "365649.0     1\n",
      "896.0        1\n",
      "Name: structuretaxvaluedollarcnt, Length: 50429, dtype: int64\n",
      "\n",
      "\n",
      "\n",
      "\n",
      "400000.0    56\n",
      "600000.0    50\n",
      "350000.0    49\n",
      "450000.0    45\n",
      "420000.0    43\n",
      "            ..\n",
      "302925.0     1\n",
      "499532.0     1\n",
      "92688.0      1\n",
      "151460.0     1\n",
      "98304.0      1\n",
      "Name: taxvaluedollarcnt, Length: 50948, dtype: int64\n",
      "\n",
      "\n",
      "\n",
      "\n",
      "2016.0    77380\n",
      "Name: assessmentyear, dtype: int64\n",
      "\n",
      "\n",
      "\n",
      "\n",
      "21299.0     97\n",
      "22755.0     68\n",
      "304575.0    65\n",
      "30210.0     63\n",
      "203050.0    63\n",
      "            ..\n",
      "68034.0      1\n",
      "868500.0     1\n",
      "434249.0     1\n",
      "92178.0      1\n",
      "114688.0     1\n",
      "Name: landtaxvaluedollarcnt, Length: 51600, dtype: int64\n",
      "\n",
      "\n",
      "\n",
      "\n",
      "2418.22     8\n",
      "3720.52     7\n",
      "1725.20     5\n",
      "2217.31     5\n",
      "3815.22     5\n",
      "           ..\n",
      "3716.17     1\n",
      "7358.73     1\n",
      "4654.70     1\n",
      "2642.95     1\n",
      "10240.00    1\n",
      "Name: taxamount, Length: 73824, dtype: int64\n",
      "\n",
      "\n",
      "\n",
      "\n",
      "Y    2886\n",
      "Name: taxdelinquencyflag, dtype: int64\n",
      "\n",
      "\n",
      "\n",
      "\n",
      "15.0    1552\n",
      "14.0     799\n",
      "13.0     183\n",
      "12.0     113\n",
      "11.0      98\n",
      "10.0      66\n",
      "9.0       47\n",
      "8.0       14\n",
      "7.0       10\n",
      "6.0        1\n",
      "3.0        1\n",
      "4.0        1\n",
      "99.0       1\n",
      "Name: taxdelinquencyyear, dtype: int64\n",
      "\n",
      "\n",
      "\n",
      "\n",
      "6.037137e+13    60\n",
      "6.037277e+13    51\n",
      "6.059032e+13    44\n",
      "6.037920e+13    41\n",
      "6.059063e+13    41\n",
      "                ..\n",
      "6.059076e+13     1\n",
      "6.037480e+13     1\n",
      "6.037541e+13     1\n",
      "6.037543e+13     1\n",
      "6.037911e+13     1\n",
      "Name: censustractandblock, Length: 39006, dtype: int64\n",
      "\n",
      "\n",
      "\n",
      "\n",
      " 0.002652    7\n",
      " 0.000231    7\n",
      " 0.001878    5\n",
      " 0.003152    5\n",
      " 0.008257    5\n",
      "            ..\n",
      "-0.061171    1\n",
      " 0.005032    1\n",
      "-0.023709    1\n",
      "-0.047589    1\n",
      " 0.010783    1\n",
      "Name: logerror, Length: 76836, dtype: int64\n",
      "\n",
      "\n",
      "\n",
      "\n",
      "12086286    1\n",
      "13842812    1\n",
      "17089101    1\n",
      "14604878    1\n",
      "11149905    1\n",
      "           ..\n",
      "13926436    1\n",
      "10832543    1\n",
      "11078987    1\n",
      "11089228    1\n",
      "14298875    1\n",
      "Name: pid, Length: 77380, dtype: int64\n",
      "\n",
      "\n",
      "\n",
      "\n",
      "2017-06-30    1189\n",
      "2017-04-28     911\n",
      "2017-05-31     867\n",
      "2017-07-28     814\n",
      "2017-08-31     781\n",
      "              ... \n",
      "2017-08-05       1\n",
      "2017-09-10       1\n",
      "2017-02-18       1\n",
      "2017-09-25       1\n",
      "2017-04-15       1\n",
      "Name: tdate, Length: 264, dtype: int64\n",
      "\n",
      "\n",
      "\n",
      "\n",
      "Central          23133\n",
      "Yes               1574\n",
      "None               167\n",
      "Wall Unit           53\n",
      "Refrigeration       26\n",
      "Name: airconditioningdesc, dtype: int64\n",
      "\n",
      "\n",
      "\n",
      "\n",
      "Contemporary     172\n",
      "Conventional      19\n",
      "Ranch/Rambler      7\n",
      "Bungalow           5\n",
      "Cape Cod           3\n",
      "Name: architecturalstyledesc, dtype: int64\n",
      "\n",
      "\n",
      "\n",
      "\n",
      "Buildings having wood or wood and steel frames                                                                                                                                                                                             14\n",
      "Buildings having exterior walls built of a non-combustible material such as brick, concrete, block or poured concrete. Interior partitions and roof structures are built of combustible materials. Floor may be concrete or wood frame.     1\n",
      "Name: buildingclassdesc, dtype: int64\n",
      "\n",
      "\n",
      "\n",
      "\n",
      "Central       33550\n",
      "Floor/Wall    14064\n",
      "Yes             846\n",
      "Forced air      776\n",
      "Solar           104\n",
      "None             59\n",
      "Radiant          23\n",
      "Baseboard        13\n",
      "Gravity           3\n",
      "Heat Pump         1\n",
      "Name: heatingorsystemdesc, dtype: int64\n",
      "\n",
      "\n",
      "\n",
      "\n",
      "Single Family Residential                     52319\n",
      "Condominium                                   19294\n",
      "Duplex (2 Units, Any Combination)              2009\n",
      "Planned Unit Development                       1944\n",
      "Quadruplex (4 Units, Any Combination)           727\n",
      "Triplex (3 Units, Any Combination)              535\n",
      "Cluster Home                                    333\n",
      "Mobile Home                                      74\n",
      "Manufactured, Modular, Prefabricated Homes       58\n",
      "Residential General                              37\n",
      "Cooperative                                      29\n",
      "Commercial/Office/Residential Mixed Used         15\n",
      "Townhouse                                         6\n",
      "Name: propertylandusedesc, dtype: int64\n",
      "\n",
      "\n",
      "\n",
      "\n",
      "Basement    50\n",
      "Name: storydesc, dtype: int64\n",
      "\n",
      "\n",
      "\n",
      "\n",
      "Frame       219\n",
      "Concrete      1\n",
      "Masonry       1\n",
      "Metal         1\n",
      "Name: typeconstructiondesc, dtype: int64\n",
      "\n",
      "\n"
     ]
    }
   ],
   "source": [
    "for col in df.columns:\n",
    "    print(\"\\n\")\n",
    "    print(df[col].value_counts())\n",
    "    print(\"\\n\")"
   ]
  },
  {
   "cell_type": "markdown",
   "metadata": {},
   "source": [
    "## 3. Write a function that takes in a dataframe of observations and attributes and returns a dataframe where \n",
    "- each row is an atttribute name\n",
    "- the first column is the number of rows with missing values for that attribute\n",
    "- the second column is percent of total rows that have missing values for that attribute. \n",
    "- Run the function and document takeaways from this on how you want to handle missing values."
   ]
  },
  {
   "cell_type": "code",
   "execution_count": 10,
   "metadata": {},
   "outputs": [],
   "source": [
    "def null_finder_columns(df):\n",
    "    '''\n",
    "    This function takes in a DataFrame and list \n",
    "    information about the null values in the columns\n",
    "    '''\n",
    "    #accepts a 'df' and creates a new one labeled 'nulls'  \n",
    "    #nulls index is the df's columns\n",
    "    nulls = pd.DataFrame(index = df.columns)\n",
    "    #sums up the null values in the dataframes columns\n",
    "    nulls['num_rows_missing'] = df.isnull().sum(axis = 0)\n",
    "    #finds the percentage of null values in the df's columns\n",
    "    nulls['pct_rows_missing'] = nulls.num_rows_missing / df.shape[0]\n",
    "    return nulls"
   ]
  },
  {
   "cell_type": "code",
   "execution_count": 11,
   "metadata": {},
   "outputs": [],
   "source": [
    "null_columns = null_finder_columns(df)"
   ]
  },
  {
   "cell_type": "code",
   "execution_count": 12,
   "metadata": {},
   "outputs": [
    {
     "data": {
      "text/html": [
       "<div>\n",
       "<style scoped>\n",
       "    .dataframe tbody tr th:only-of-type {\n",
       "        vertical-align: middle;\n",
       "    }\n",
       "\n",
       "    .dataframe tbody tr th {\n",
       "        vertical-align: top;\n",
       "    }\n",
       "\n",
       "    .dataframe thead th {\n",
       "        text-align: right;\n",
       "    }\n",
       "</style>\n",
       "<table border=\"1\" class=\"dataframe\">\n",
       "  <thead>\n",
       "    <tr style=\"text-align: right;\">\n",
       "      <th></th>\n",
       "      <th>num_rows_missing</th>\n",
       "      <th>pct_rows_missing</th>\n",
       "    </tr>\n",
       "  </thead>\n",
       "  <tbody>\n",
       "    <tr>\n",
       "      <th>buildingclassdesc</th>\n",
       "      <td>77365</td>\n",
       "      <td>0.999806</td>\n",
       "    </tr>\n",
       "    <tr>\n",
       "      <th>buildingclasstypeid</th>\n",
       "      <td>77365</td>\n",
       "      <td>0.999806</td>\n",
       "    </tr>\n",
       "    <tr>\n",
       "      <th>finishedsquarefeet13</th>\n",
       "      <td>77339</td>\n",
       "      <td>0.999470</td>\n",
       "    </tr>\n",
       "    <tr>\n",
       "      <th>storytypeid</th>\n",
       "      <td>77330</td>\n",
       "      <td>0.999354</td>\n",
       "    </tr>\n",
       "    <tr>\n",
       "      <th>storydesc</th>\n",
       "      <td>77330</td>\n",
       "      <td>0.999354</td>\n",
       "    </tr>\n",
       "    <tr>\n",
       "      <th>basementsqft</th>\n",
       "      <td>77330</td>\n",
       "      <td>0.999354</td>\n",
       "    </tr>\n",
       "    <tr>\n",
       "      <th>yardbuildingsqft26</th>\n",
       "      <td>77310</td>\n",
       "      <td>0.999095</td>\n",
       "    </tr>\n",
       "    <tr>\n",
       "      <th>fireplaceflag</th>\n",
       "      <td>77208</td>\n",
       "      <td>0.997777</td>\n",
       "    </tr>\n",
       "    <tr>\n",
       "      <th>architecturalstyletypeid</th>\n",
       "      <td>77174</td>\n",
       "      <td>0.997338</td>\n",
       "    </tr>\n",
       "    <tr>\n",
       "      <th>architecturalstyledesc</th>\n",
       "      <td>77174</td>\n",
       "      <td>0.997338</td>\n",
       "    </tr>\n",
       "    <tr>\n",
       "      <th>typeconstructiondesc</th>\n",
       "      <td>77158</td>\n",
       "      <td>0.997131</td>\n",
       "    </tr>\n",
       "    <tr>\n",
       "      <th>typeconstructiontypeid</th>\n",
       "      <td>77158</td>\n",
       "      <td>0.997131</td>\n",
       "    </tr>\n",
       "    <tr>\n",
       "      <th>finishedsquarefeet6</th>\n",
       "      <td>76994</td>\n",
       "      <td>0.995012</td>\n",
       "    </tr>\n",
       "    <tr>\n",
       "      <th>pooltypeid10</th>\n",
       "      <td>76916</td>\n",
       "      <td>0.994004</td>\n",
       "    </tr>\n",
       "    <tr>\n",
       "      <th>decktypeid</th>\n",
       "      <td>76766</td>\n",
       "      <td>0.992065</td>\n",
       "    </tr>\n",
       "    <tr>\n",
       "      <th>poolsizesum</th>\n",
       "      <td>76513</td>\n",
       "      <td>0.988796</td>\n",
       "    </tr>\n",
       "    <tr>\n",
       "      <th>pooltypeid2</th>\n",
       "      <td>76306</td>\n",
       "      <td>0.986120</td>\n",
       "    </tr>\n",
       "    <tr>\n",
       "      <th>hashottuborspa</th>\n",
       "      <td>75842</td>\n",
       "      <td>0.980124</td>\n",
       "    </tr>\n",
       "    <tr>\n",
       "      <th>yardbuildingsqft17</th>\n",
       "      <td>74992</td>\n",
       "      <td>0.969139</td>\n",
       "    </tr>\n",
       "    <tr>\n",
       "      <th>taxdelinquencyyear</th>\n",
       "      <td>74494</td>\n",
       "      <td>0.962704</td>\n",
       "    </tr>\n",
       "    <tr>\n",
       "      <th>taxdelinquencyflag</th>\n",
       "      <td>74494</td>\n",
       "      <td>0.962704</td>\n",
       "    </tr>\n",
       "    <tr>\n",
       "      <th>finishedsquarefeet15</th>\n",
       "      <td>74371</td>\n",
       "      <td>0.961114</td>\n",
       "    </tr>\n",
       "    <tr>\n",
       "      <th>finishedfloor1squarefeet</th>\n",
       "      <td>71357</td>\n",
       "      <td>0.922163</td>\n",
       "    </tr>\n",
       "    <tr>\n",
       "      <th>finishedsquarefeet50</th>\n",
       "      <td>71357</td>\n",
       "      <td>0.922163</td>\n",
       "    </tr>\n",
       "    <tr>\n",
       "      <th>fireplacecnt</th>\n",
       "      <td>69104</td>\n",
       "      <td>0.893047</td>\n",
       "    </tr>\n",
       "    <tr>\n",
       "      <th>threequarterbathnbr</th>\n",
       "      <td>67284</td>\n",
       "      <td>0.869527</td>\n",
       "    </tr>\n",
       "    <tr>\n",
       "      <th>pooltypeid7</th>\n",
       "      <td>62338</td>\n",
       "      <td>0.805609</td>\n",
       "    </tr>\n",
       "    <tr>\n",
       "      <th>poolcnt</th>\n",
       "      <td>61243</td>\n",
       "      <td>0.791458</td>\n",
       "    </tr>\n",
       "    <tr>\n",
       "      <th>numberofstories</th>\n",
       "      <td>59820</td>\n",
       "      <td>0.773068</td>\n",
       "    </tr>\n",
       "    <tr>\n",
       "      <th>airconditioningdesc</th>\n",
       "      <td>52427</td>\n",
       "      <td>0.677526</td>\n",
       "    </tr>\n",
       "  </tbody>\n",
       "</table>\n",
       "</div>"
      ],
      "text/plain": [
       "                          num_rows_missing  pct_rows_missing\n",
       "buildingclassdesc                    77365          0.999806\n",
       "buildingclasstypeid                  77365          0.999806\n",
       "finishedsquarefeet13                 77339          0.999470\n",
       "storytypeid                          77330          0.999354\n",
       "storydesc                            77330          0.999354\n",
       "basementsqft                         77330          0.999354\n",
       "yardbuildingsqft26                   77310          0.999095\n",
       "fireplaceflag                        77208          0.997777\n",
       "architecturalstyletypeid             77174          0.997338\n",
       "architecturalstyledesc               77174          0.997338\n",
       "typeconstructiondesc                 77158          0.997131\n",
       "typeconstructiontypeid               77158          0.997131\n",
       "finishedsquarefeet6                  76994          0.995012\n",
       "pooltypeid10                         76916          0.994004\n",
       "decktypeid                           76766          0.992065\n",
       "poolsizesum                          76513          0.988796\n",
       "pooltypeid2                          76306          0.986120\n",
       "hashottuborspa                       75842          0.980124\n",
       "yardbuildingsqft17                   74992          0.969139\n",
       "taxdelinquencyyear                   74494          0.962704\n",
       "taxdelinquencyflag                   74494          0.962704\n",
       "finishedsquarefeet15                 74371          0.961114\n",
       "finishedfloor1squarefeet             71357          0.922163\n",
       "finishedsquarefeet50                 71357          0.922163\n",
       "fireplacecnt                         69104          0.893047\n",
       "threequarterbathnbr                  67284          0.869527\n",
       "pooltypeid7                          62338          0.805609\n",
       "poolcnt                              61243          0.791458\n",
       "numberofstories                      59820          0.773068\n",
       "airconditioningdesc                  52427          0.677526"
      ]
     },
     "execution_count": 12,
     "metadata": {},
     "output_type": "execute_result"
    }
   ],
   "source": [
    "null_columns.sort_values(by = 'pct_rows_missing', ascending = False).head(30)"
   ]
  },
  {
   "cell_type": "markdown",
   "metadata": {},
   "source": [
    "\n",
    "\n",
    "<div class=\"alert alert-block alert-info\">\n",
    "Takeaways: \n",
    "    \n",
    "- There are 34 out of the 68 columns missing more than half the value\n",
    "    \n",
    "- May need to drop a lot of the data  \n",
    "    \n",
    "</div>"
   ]
  },
  {
   "cell_type": "markdown",
   "metadata": {},
   "source": [
    "## 4. Write a function that takes in a dataframe and returns a dataframe with 3 columns: \n",
    "- the number of columns missing, \n",
    "- percent of columns missing, \n",
    "- number of rows with n columns missing. \n",
    "- Run the function and document takeaways from this on how you want to handle missing values."
   ]
  },
  {
   "cell_type": "code",
   "execution_count": 13,
   "metadata": {},
   "outputs": [],
   "source": [
    "def null_finder_rows(df):\n",
    "    '''\n",
    "    This function finds the number of columns missing in a row,\n",
    "    the percent of columns missing in the row\n",
    "    and the number of rows that have the same amount of columns missing\n",
    "    '''\n",
    "    #initiate a dataframe\n",
    "    rows = pd.DataFrame()\n",
    "    #find the number of columns missing in the row\n",
    "    rows['num_cols_missing'] = df.isnull().sum(axis=1)\n",
    "    #find the percentage of columns missing in the row\n",
    "    rows['pct_cols_missing'] = df.isnull().sum(axis=1) / df.shape[1]\n",
    "    #group by 'num_cols_missing' and find \n",
    "    #how many rows have that number of columns missing\n",
    "    num_rows = rows.groupby('num_cols_missing').count()\n",
    "    #rename the column as 'num_rows'\n",
    "    num_rows = num_rows.rename(columns ={'pct_cols_missing': \"num_rows\"})\n",
    "    #group by 'num_cols_missing' and find \n",
    "    #the percentage of columns missing in the row\n",
    "    pct_cols = rows.groupby('num_cols_missing').mean()\n",
    "    #combine the 'pct_cols' and 'num_rows'\n",
    "    result = pd.concat([pct_cols, num_rows], axis=1, sort=False)\n",
    "    #take the 'num_cols_missing' out of the index\n",
    "    result = result.reset_index()\n",
    "    return result"
   ]
  },
  {
   "cell_type": "code",
   "execution_count": 14,
   "metadata": {},
   "outputs": [],
   "source": [
    "null_rows = null_finder_rows(df)"
   ]
  },
  {
   "cell_type": "code",
   "execution_count": 15,
   "metadata": {},
   "outputs": [
    {
     "data": {
      "text/html": [
       "<div>\n",
       "<style scoped>\n",
       "    .dataframe tbody tr th:only-of-type {\n",
       "        vertical-align: middle;\n",
       "    }\n",
       "\n",
       "    .dataframe tbody tr th {\n",
       "        vertical-align: top;\n",
       "    }\n",
       "\n",
       "    .dataframe thead th {\n",
       "        text-align: right;\n",
       "    }\n",
       "</style>\n",
       "<table border=\"1\" class=\"dataframe\">\n",
       "  <thead>\n",
       "    <tr style=\"text-align: right;\">\n",
       "      <th></th>\n",
       "      <th>num_cols_missing</th>\n",
       "      <th>pct_cols_missing</th>\n",
       "      <th>num_rows</th>\n",
       "    </tr>\n",
       "  </thead>\n",
       "  <tbody>\n",
       "    <tr>\n",
       "      <th>25</th>\n",
       "      <td>48</td>\n",
       "      <td>0.695652</td>\n",
       "      <td>3</td>\n",
       "    </tr>\n",
       "    <tr>\n",
       "      <th>24</th>\n",
       "      <td>47</td>\n",
       "      <td>0.681159</td>\n",
       "      <td>3</td>\n",
       "    </tr>\n",
       "    <tr>\n",
       "      <th>23</th>\n",
       "      <td>46</td>\n",
       "      <td>0.666667</td>\n",
       "      <td>5</td>\n",
       "    </tr>\n",
       "    <tr>\n",
       "      <th>22</th>\n",
       "      <td>45</td>\n",
       "      <td>0.652174</td>\n",
       "      <td>50</td>\n",
       "    </tr>\n",
       "    <tr>\n",
       "      <th>21</th>\n",
       "      <td>44</td>\n",
       "      <td>0.637681</td>\n",
       "      <td>78</td>\n",
       "    </tr>\n",
       "    <tr>\n",
       "      <th>20</th>\n",
       "      <td>43</td>\n",
       "      <td>0.623188</td>\n",
       "      <td>28</td>\n",
       "    </tr>\n",
       "    <tr>\n",
       "      <th>19</th>\n",
       "      <td>42</td>\n",
       "      <td>0.608696</td>\n",
       "      <td>23</td>\n",
       "    </tr>\n",
       "    <tr>\n",
       "      <th>18</th>\n",
       "      <td>41</td>\n",
       "      <td>0.594203</td>\n",
       "      <td>29</td>\n",
       "    </tr>\n",
       "    <tr>\n",
       "      <th>17</th>\n",
       "      <td>40</td>\n",
       "      <td>0.579710</td>\n",
       "      <td>230</td>\n",
       "    </tr>\n",
       "    <tr>\n",
       "      <th>16</th>\n",
       "      <td>39</td>\n",
       "      <td>0.565217</td>\n",
       "      <td>285</td>\n",
       "    </tr>\n",
       "  </tbody>\n",
       "</table>\n",
       "</div>"
      ],
      "text/plain": [
       "    num_cols_missing  pct_cols_missing  num_rows\n",
       "25                48          0.695652         3\n",
       "24                47          0.681159         3\n",
       "23                46          0.666667         5\n",
       "22                45          0.652174        50\n",
       "21                44          0.637681        78\n",
       "20                43          0.623188        28\n",
       "19                42          0.608696        23\n",
       "18                41          0.594203        29\n",
       "17                40          0.579710       230\n",
       "16                39          0.565217       285"
      ]
     },
     "execution_count": 15,
     "metadata": {},
     "output_type": "execute_result"
    }
   ],
   "source": [
    "null_rows.sort_values(by = 'pct_cols_missing', ascending = False).head(10)"
   ]
  },
  {
   "cell_type": "markdown",
   "metadata": {},
   "source": [
    "<div class=\"alert alert-block alert-info\">\n",
    "Takeaways:\n",
    "\n",
    "- Below 60% is a major jump in rows missing\n",
    "\n",
    "- This will be the threshold \n",
    "    \n",
    "</div>"
   ]
  },
  {
   "cell_type": "markdown",
   "metadata": {},
   "source": [
    "# Prepare"
   ]
  },
  {
   "cell_type": "markdown",
   "metadata": {},
   "source": [
    "## 1. Remove any properties that are likely to be something other than single unit properties. (e.g. no duplexes, no land/lot, ...).\n",
    "- There are multiple ways to estimate that a property is a single unit, and there is not a single \"right\" answer. But for this exercise, do not purely filter by unitcnt as we did previously. \n",
    "- Add some new logic that will reduce the number of properties that are falsely removed. \n",
    "- You might want to use # bedrooms, square feet, unit type or the like to then identify those with unitcnt not defined."
   ]
  },
  {
   "cell_type": "code",
   "execution_count": 16,
   "metadata": {},
   "outputs": [
    {
     "data": {
      "text/plain": [
       "Single Family Residential                     52319\n",
       "Condominium                                   19294\n",
       "Duplex (2 Units, Any Combination)              2009\n",
       "Planned Unit Development                       1944\n",
       "Quadruplex (4 Units, Any Combination)           727\n",
       "Triplex (3 Units, Any Combination)              535\n",
       "Cluster Home                                    333\n",
       "Mobile Home                                      74\n",
       "Manufactured, Modular, Prefabricated Homes       58\n",
       "Residential General                              37\n",
       "Cooperative                                      29\n",
       "Commercial/Office/Residential Mixed Used         15\n",
       "Townhouse                                         6\n",
       "Name: propertylandusedesc, dtype: int64"
      ]
     },
     "execution_count": 16,
     "metadata": {},
     "output_type": "execute_result"
    }
   ],
   "source": [
    "df.propertylandusedesc.value_counts()"
   ]
  },
  {
   "cell_type": "markdown",
   "metadata": {},
   "source": [
    "\n",
    "<div class=\"alert alert-block alert-info\">\n",
    "Takeaways:\n",
    "\n",
    "- keep only single family residential(261), residential general(260) \n",
    "    \n",
    "</div>"
   ]
  },
  {
   "cell_type": "code",
   "execution_count": 17,
   "metadata": {},
   "outputs": [],
   "source": [
    "df = df[df.propertylandusetypeid.isin([260,261])]"
   ]
  },
  {
   "cell_type": "code",
   "execution_count": 18,
   "metadata": {},
   "outputs": [
    {
     "data": {
      "text/plain": [
       "(52356, 69)"
      ]
     },
     "execution_count": 18,
     "metadata": {},
     "output_type": "execute_result"
    }
   ],
   "source": [
    "df.shape"
   ]
  },
  {
   "cell_type": "markdown",
   "metadata": {},
   "source": [
    "- Check bedroom and bathroom counts"
   ]
  },
  {
   "cell_type": "code",
   "execution_count": 19,
   "metadata": {},
   "outputs": [
    {
     "data": {
      "text/plain": [
       "3.0     23304\n",
       "4.0     15213\n",
       "2.0      8317\n",
       "5.0      3969\n",
       "6.0       634\n",
       "1.0       612\n",
       "0.0       162\n",
       "7.0       106\n",
       "8.0        25\n",
       "9.0         8\n",
       "10.0        2\n",
       "11.0        2\n",
       "12.0        1\n",
       "14.0        1\n",
       "Name: bedroomcnt, dtype: int64"
      ]
     },
     "execution_count": 19,
     "metadata": {},
     "output_type": "execute_result"
    }
   ],
   "source": [
    "df.bedroomcnt.value_counts()"
   ]
  },
  {
   "cell_type": "code",
   "execution_count": 20,
   "metadata": {},
   "outputs": [
    {
     "data": {
      "text/plain": [
       "2.0     21840\n",
       "3.0     10654\n",
       "1.0      9537\n",
       "2.5      3932\n",
       "4.0      2226\n",
       "3.5       916\n",
       "1.5       839\n",
       "5.0       804\n",
       "4.5       686\n",
       "6.0       321\n",
       "5.5       224\n",
       "0.0       146\n",
       "7.0        89\n",
       "8.0        53\n",
       "6.5        47\n",
       "7.5        16\n",
       "9.0        13\n",
       "10.0        5\n",
       "11.0        3\n",
       "8.5         3\n",
       "13.0        1\n",
       "18.0        1\n",
       "Name: bathroomcnt, dtype: int64"
      ]
     },
     "execution_count": 20,
     "metadata": {},
     "output_type": "execute_result"
    }
   ],
   "source": [
    "df.bathroomcnt.value_counts()"
   ]
  },
  {
   "cell_type": "markdown",
   "metadata": {},
   "source": [
    "<div class=\"alert alert-block alert-info\">\n",
    "Takeaways:\n",
    "\n",
    "- 178 houses had either 0 as bedroom or bathroom\n",
    "    \n",
    "</div>"
   ]
  },
  {
   "cell_type": "code",
   "execution_count": 21,
   "metadata": {},
   "outputs": [],
   "source": [
    "df = df[(df.bedroomcnt > 0) & (df.bathroomcnt > 0)]"
   ]
  },
  {
   "cell_type": "code",
   "execution_count": 22,
   "metadata": {},
   "outputs": [
    {
     "data": {
      "text/plain": [
       "(52178, 69)"
      ]
     },
     "execution_count": 22,
     "metadata": {},
     "output_type": "execute_result"
    }
   ],
   "source": [
    "df.shape"
   ]
  },
  {
   "cell_type": "code",
   "execution_count": 23,
   "metadata": {},
   "outputs": [
    {
     "data": {
      "text/plain": [
       "1.0    33698\n",
       "NaN    18451\n",
       "2.0       26\n",
       "4.0        2\n",
       "3.0        1\n",
       "Name: unitcnt, dtype: int64"
      ]
     },
     "execution_count": 23,
     "metadata": {},
     "output_type": "execute_result"
    }
   ],
   "source": [
    "df.unitcnt.value_counts(dropna=False)"
   ]
  },
  {
   "cell_type": "markdown",
   "metadata": {},
   "source": [
    "\n",
    "<div class=\"alert alert-block alert-info\">\n",
    "Takeaways:\n",
    "\n",
    "- 18541 null unit counts. They are probably unit counts of 1.\n",
    "\n",
    "- Filter out the units that are more than one\n",
    "    \n",
    "</div>"
   ]
  },
  {
   "cell_type": "code",
   "execution_count": 24,
   "metadata": {},
   "outputs": [],
   "source": [
    "df.unitcnt = df.unitcnt.fillna(1.0)"
   ]
  },
  {
   "cell_type": "code",
   "execution_count": 25,
   "metadata": {},
   "outputs": [],
   "source": [
    "df = df[df.unitcnt == 1]"
   ]
  },
  {
   "cell_type": "code",
   "execution_count": 26,
   "metadata": {},
   "outputs": [
    {
     "data": {
      "text/plain": [
       "0"
      ]
     },
     "execution_count": 26,
     "metadata": {},
     "output_type": "execute_result"
    }
   ],
   "source": [
    "(df.unitcnt != 1).sum()"
   ]
  },
  {
   "cell_type": "code",
   "execution_count": 27,
   "metadata": {},
   "outputs": [
    {
     "data": {
      "text/plain": [
       "(52149, 69)"
      ]
     },
     "execution_count": 27,
     "metadata": {},
     "output_type": "execute_result"
    }
   ],
   "source": [
    "df.shape"
   ]
  },
  {
   "cell_type": "markdown",
   "metadata": {},
   "source": [
    "## 2. Create a function that will drop rows or columns based on the percent of values that are missing: handle_missing_values(df, prop_required_column, prop_required_row).\n",
    "\n",
    "- The input:\n",
    "    - A dataframe\n",
    "    - A number between 0 and 1 that represents the proportion, for each column, of rows with non-missing values required to keep the column. i.e. if prop_required_column = .6, then you are requiring a column to have at least 60% of values not-NA (no more than 40% missing).\n",
    "    - A number between 0 and 1 that represents the proportion, for each row, of columns/variables with non-missing values required to keep the row. For example, if prop_required_row = .75, then you are requiring a row to have at least 75% of variables with a non-missing value (no more that 25% missing).\n",
    "- The output:\n",
    "    - The dataframe with the columns and rows dropped as indicated. Be sure to drop the columns prior to the rows in your function.\n",
    "- hint:\n",
    "    - Look up the dropna documentation.\n",
    "    - You will want to compute a threshold from your input values (prop_required) and total number of rows or columns.\n",
    "    - Make use of inplace, i.e. inplace=True/False."
   ]
  },
  {
   "cell_type": "code",
   "execution_count": 28,
   "metadata": {},
   "outputs": [],
   "source": [
    "def handle_missing_values(df, prop_required_column, prop_required_row):\n",
    "    thresh_col = int(round(prop_required_column*df.shape[0],0))\n",
    "    df.dropna(axis=1, thresh=thresh_col, inplace=True)\n",
    "    thresh_row = int(round(prop_required_row*df.shape[1],0))\n",
    "    df.dropna(axis=0, thresh=thresh_row, inplace=True)\n",
    "    return df "
   ]
  },
  {
   "cell_type": "code",
   "execution_count": 29,
   "metadata": {},
   "outputs": [],
   "source": [
    "df = handle_missing_values(df, .6, .6)"
   ]
  },
  {
   "cell_type": "markdown",
   "metadata": {},
   "source": [
    "## 3. Decide how to handle the remaining missing values:\n",
    "\n",
    "   - Fill with constant value.\n",
    "   - Impute with mean, median, mode.\n",
    "   - Drop row/column"
   ]
  },
  {
   "cell_type": "code",
   "execution_count": 30,
   "metadata": {},
   "outputs": [
    {
     "name": "stdout",
     "output_type": "stream",
     "text": [
      "<class 'pandas.core.frame.DataFrame'>\n",
      "Int64Index: 52149 entries, 0 to 77379\n",
      "Data columns (total 35 columns):\n",
      " #   Column                        Non-Null Count  Dtype  \n",
      "---  ------                        --------------  -----  \n",
      " 0   parcelid                      52149 non-null  int64  \n",
      " 1   propertylandusetypeid         52149 non-null  float64\n",
      " 2   heatingorsystemtypeid         33815 non-null  float64\n",
      " 3   id                            52149 non-null  int64  \n",
      " 4   bathroomcnt                   52149 non-null  float64\n",
      " 5   bedroomcnt                    52149 non-null  float64\n",
      " 6   buildingqualitytypeid         33612 non-null  float64\n",
      " 7   calculatedbathnbr             52133 non-null  float64\n",
      " 8   calculatedfinishedsquarefeet  52141 non-null  float64\n",
      " 9   finishedsquarefeet12          51983 non-null  float64\n",
      " 10  fips                          52149 non-null  float64\n",
      " 11  fullbathcnt                   52133 non-null  float64\n",
      " 12  latitude                      52149 non-null  float64\n",
      " 13  longitude                     52149 non-null  float64\n",
      " 14  lotsizesquarefeet             51799 non-null  float64\n",
      " 15  propertycountylandusecode     52149 non-null  object \n",
      " 16  propertyzoningdesc            33673 non-null  object \n",
      " 17  rawcensustractandblock        52149 non-null  float64\n",
      " 18  regionidcity                  51121 non-null  float64\n",
      " 19  regionidcounty                52149 non-null  float64\n",
      " 20  regionidzip                   52126 non-null  float64\n",
      " 21  roomcnt                       52149 non-null  float64\n",
      " 22  unitcnt                       52149 non-null  float64\n",
      " 23  yearbuilt                     52109 non-null  float64\n",
      " 24  structuretaxvaluedollarcnt    52080 non-null  float64\n",
      " 25  taxvaluedollarcnt             52148 non-null  float64\n",
      " 26  assessmentyear                52149 non-null  float64\n",
      " 27  landtaxvaluedollarcnt         52148 non-null  float64\n",
      " 28  taxamount                     52145 non-null  float64\n",
      " 29  censustractandblock           52040 non-null  float64\n",
      " 30  logerror                      52149 non-null  float64\n",
      " 31  pid                           52149 non-null  int64  \n",
      " 32  tdate                         52149 non-null  object \n",
      " 33  heatingorsystemdesc           33815 non-null  object \n",
      " 34  propertylandusedesc           52149 non-null  object \n",
      "dtypes: float64(27), int64(3), object(5)\n",
      "memory usage: 14.3+ MB\n"
     ]
    }
   ],
   "source": [
    "df.info()"
   ]
  },
  {
   "cell_type": "markdown",
   "metadata": {},
   "source": [
    "<div class=\"alert alert-block alert-info\">\n",
    "Takeaways:\n",
    "\n",
    "- dropping typeid that are no longer needed\n",
    "    \n",
    "</div>"
   ]
  },
  {
   "cell_type": "code",
   "execution_count": 31,
   "metadata": {},
   "outputs": [],
   "source": [
    "df = df.drop(columns=[\"id\", \"propertylandusetypeid\", \"heatingorsystemtypeid\"])"
   ]
  },
  {
   "cell_type": "code",
   "execution_count": 32,
   "metadata": {
    "scrolled": true
   },
   "outputs": [
    {
     "data": {
      "text/plain": [
       "buildingqualitytypeid           18537\n",
       "propertyzoningdesc              18476\n",
       "heatingorsystemdesc             18334\n",
       "regionidcity                     1028\n",
       "lotsizesquarefeet                 350\n",
       "finishedsquarefeet12              166\n",
       "censustractandblock               109\n",
       "structuretaxvaluedollarcnt         69\n",
       "yearbuilt                          40\n",
       "regionidzip                        23\n",
       "calculatedbathnbr                  16\n",
       "fullbathcnt                        16\n",
       "calculatedfinishedsquarefeet        8\n",
       "taxamount                           4\n",
       "landtaxvaluedollarcnt               1\n",
       "taxvaluedollarcnt                   1\n",
       "longitude                           0\n",
       "fips                                0\n",
       "bedroomcnt                          0\n",
       "bathroomcnt                         0\n",
       "latitude                            0\n",
       "propertylandusedesc                 0\n",
       "propertycountylandusecode           0\n",
       "rawcensustractandblock              0\n",
       "regionidcounty                      0\n",
       "roomcnt                             0\n",
       "unitcnt                             0\n",
       "assessmentyear                      0\n",
       "logerror                            0\n",
       "pid                                 0\n",
       "tdate                               0\n",
       "parcelid                            0\n",
       "dtype: int64"
      ]
     },
     "execution_count": 32,
     "metadata": {},
     "output_type": "execute_result"
    }
   ],
   "source": [
    "df.isnull().sum().sort_values(ascending = False)"
   ]
  },
  {
   "cell_type": "markdown",
   "metadata": {},
   "source": [
    "<div class=\"alert alert-block alert-info\">\n",
    "Takeaways:\n",
    "\n",
    "- propertyzoningdesc = Description of the allowed land uses (zoning) for that property\n",
    "- dropping because we already filtered for single unit residential.\n",
    "- let's take a closer look into the missing values\n",
    "    \n",
    "</div>"
   ]
  },
  {
   "cell_type": "code",
   "execution_count": 33,
   "metadata": {},
   "outputs": [],
   "source": [
    "df = df.drop(columns=[\"propertyzoningdesc\"])"
   ]
  },
  {
   "cell_type": "code",
   "execution_count": 34,
   "metadata": {},
   "outputs": [
    {
     "data": {
      "text/plain": [
       "Central       20676\n",
       "NaN           18334\n",
       "Floor/Wall    12505\n",
       "Forced air      517\n",
       "Solar            85\n",
       "None             16\n",
       "Baseboard         7\n",
       "Radiant           6\n",
       "Gravity           2\n",
       "Yes               1\n",
       "Name: heatingorsystemdesc, dtype: int64"
      ]
     },
     "execution_count": 34,
     "metadata": {},
     "output_type": "execute_result"
    }
   ],
   "source": [
    "df.heatingorsystemdesc.value_counts(dropna = False)"
   ]
  },
  {
   "cell_type": "markdown",
   "metadata": {},
   "source": [
    "<div class=\"alert alert-block alert-info\">\n",
    "Takeaways:\n",
    "\n",
    "- In southern California, the NaN values are most likely no type of heating system\n",
    "\n",
    "- We will fill Nan with none\n",
    "    \n",
    "</div>"
   ]
  },
  {
   "cell_type": "code",
   "execution_count": 35,
   "metadata": {},
   "outputs": [],
   "source": [
    "df.heatingorsystemdesc = df.heatingorsystemdesc.fillna(\"None\")"
   ]
  },
  {
   "cell_type": "code",
   "execution_count": 36,
   "metadata": {},
   "outputs": [
    {
     "data": {
      "text/plain": [
       "0.9996931868300447"
      ]
     },
     "execution_count": 36,
     "metadata": {},
     "output_type": "execute_result"
    }
   ],
   "source": [
    "(df.calculatedbathnbr == df.bathroomcnt).sum() / len(df)"
   ]
  },
  {
   "cell_type": "markdown",
   "metadata": {},
   "source": [
    "<div class=\"alert alert-block alert-info\">\n",
    "Takeaways:\n",
    "\n",
    "- Looks like calculatedbathrbr is equivalent to bathroomcnt\n",
    "- drop the duplicate column\n",
    "    \n",
    "</div>"
   ]
  },
  {
   "cell_type": "code",
   "execution_count": 37,
   "metadata": {},
   "outputs": [],
   "source": [
    "df = df.drop(columns=[\"calculatedbathnbr\"])"
   ]
  },
  {
   "cell_type": "markdown",
   "metadata": {},
   "source": [
    "<div class=\"alert alert-block alert-info\">\n",
    "Takeaways:\n",
    "\n",
    "- We have dropped all we can\n",
    "- To fill the rest of the NaNs we should split the data\n",
    "    \n",
    "</div>"
   ]
  },
  {
   "cell_type": "markdown",
   "metadata": {},
   "source": [
    "## Train, Validate, and Test Splits"
   ]
  },
  {
   "cell_type": "code",
   "execution_count": 38,
   "metadata": {},
   "outputs": [],
   "source": [
    "from sklearn.model_selection import train_test_split\n",
    "\n",
    "train_and_validate, test = train_test_split(df, train_size=.8, random_state=123)\n",
    "train, validate = train_test_split(train_and_validate, train_size = .7, random_state=123)"
   ]
  },
  {
   "cell_type": "code",
   "execution_count": 39,
   "metadata": {},
   "outputs": [
    {
     "data": {
      "text/plain": [
       "((29203, 30), (12516, 30), (10430, 30))"
      ]
     },
     "execution_count": 39,
     "metadata": {},
     "output_type": "execute_result"
    }
   ],
   "source": [
    "train.shape, validate.shape, test.shape"
   ]
  },
  {
   "cell_type": "code",
   "execution_count": 40,
   "metadata": {},
   "outputs": [
    {
     "data": {
      "text/plain": [
       "buildingqualitytypeid           18537\n",
       "regionidcity                     1028\n",
       "lotsizesquarefeet                 350\n",
       "finishedsquarefeet12              166\n",
       "censustractandblock               109\n",
       "structuretaxvaluedollarcnt         69\n",
       "yearbuilt                          40\n",
       "regionidzip                        23\n",
       "fullbathcnt                        16\n",
       "calculatedfinishedsquarefeet        8\n",
       "taxamount                           4\n",
       "taxvaluedollarcnt                   1\n",
       "landtaxvaluedollarcnt               1\n",
       "latitude                            0\n",
       "propertylandusedesc                 0\n",
       "dtype: int64"
      ]
     },
     "execution_count": 40,
     "metadata": {},
     "output_type": "execute_result"
    }
   ],
   "source": [
    "df.isnull().sum().sort_values(ascending = False).head(15)"
   ]
  },
  {
   "cell_type": "markdown",
   "metadata": {},
   "source": [
    "<div class=\"alert alert-block alert-info\">\n",
    "Takeaways:\n",
    "\n",
    "- We will divide the remaining nulls into two columns\n",
    "    - The fixed values will use the mode\n",
    "    - the continuous values will use the median\n",
    "    \n",
    "</div>"
   ]
  },
  {
   "cell_type": "code",
   "execution_count": 41,
   "metadata": {},
   "outputs": [],
   "source": [
    "cols_fixed = [\n",
    "    'buildingqualitytypeid',\n",
    "    'regionidcity',\n",
    "    'censustractandblock',\n",
    "    'regionidzip',\n",
    "    'yearbuilt'\n",
    "]\n",
    "\n",
    "\n",
    "for col in cols_fixed:\n",
    "    mode = int(train[col].mode())\n",
    "    train[col].fillna(value = mode, inplace = True)\n",
    "    validate[col].fillna(value = mode, inplace = True)\n",
    "    test[col].fillna(value = mode, inplace = True)"
   ]
  },
  {
   "cell_type": "code",
   "execution_count": 42,
   "metadata": {},
   "outputs": [
    {
     "data": {
      "text/plain": [
       "lotsizesquarefeet               199\n",
       "finishedsquarefeet12             83\n",
       "structuretaxvaluedollarcnt       36\n",
       "fullbathcnt                      10\n",
       "calculatedfinishedsquarefeet      4\n",
       "taxamount                         3\n",
       "propertylandusedesc               0\n",
       "regionidcity                      0\n",
       "bathroomcnt                       0\n",
       "bedroomcnt                        0\n",
       "buildingqualitytypeid             0\n",
       "fips                              0\n",
       "latitude                          0\n",
       "longitude                         0\n",
       "propertycountylandusecode         0\n",
       "dtype: int64"
      ]
     },
     "execution_count": 42,
     "metadata": {},
     "output_type": "execute_result"
    }
   ],
   "source": [
    "train.isnull().sum().sort_values(ascending = False).head(15)"
   ]
  },
  {
   "cell_type": "code",
   "execution_count": 43,
   "metadata": {},
   "outputs": [],
   "source": [
    "cols_cont = [\n",
    "    'lotsizesquarefeet',\n",
    "    'finishedsquarefeet12',\n",
    "    'structuretaxvaluedollarcnt',\n",
    "    'fullbathcnt',\n",
    "    'calculatedfinishedsquarefeet',\n",
    "    'taxamount',\n",
    "    'landtaxvaluedollarcnt',\n",
    "    'taxvaluedollarcnt'\n",
    "]\n",
    "\n",
    "\n",
    "for col in cols_cont:\n",
    "    median = train[col].median()\n",
    "    train[col].fillna(median, inplace=True)\n",
    "    validate[col].fillna(median, inplace=True)\n",
    "    test[col].fillna(median, inplace=True)"
   ]
  },
  {
   "cell_type": "code",
   "execution_count": 44,
   "metadata": {},
   "outputs": [
    {
     "data": {
      "text/plain": [
       "propertylandusedesc             0\n",
       "heatingorsystemdesc             0\n",
       "bathroomcnt                     0\n",
       "bedroomcnt                      0\n",
       "buildingqualitytypeid           0\n",
       "calculatedfinishedsquarefeet    0\n",
       "finishedsquarefeet12            0\n",
       "fips                            0\n",
       "fullbathcnt                     0\n",
       "latitude                        0\n",
       "longitude                       0\n",
       "lotsizesquarefeet               0\n",
       "propertycountylandusecode       0\n",
       "rawcensustractandblock          0\n",
       "regionidcity                    0\n",
       "regionidcounty                  0\n",
       "regionidzip                     0\n",
       "roomcnt                         0\n",
       "unitcnt                         0\n",
       "yearbuilt                       0\n",
       "structuretaxvaluedollarcnt      0\n",
       "taxvaluedollarcnt               0\n",
       "assessmentyear                  0\n",
       "landtaxvaluedollarcnt           0\n",
       "taxamount                       0\n",
       "censustractandblock             0\n",
       "logerror                        0\n",
       "pid                             0\n",
       "tdate                           0\n",
       "parcelid                        0\n",
       "dtype: int64"
      ]
     },
     "execution_count": 44,
     "metadata": {},
     "output_type": "execute_result"
    }
   ],
   "source": [
    "train.isnull().sum().sort_values(ascending=False)"
   ]
  },
  {
   "cell_type": "code",
   "execution_count": 45,
   "metadata": {},
   "outputs": [
    {
     "data": {
      "text/plain": [
       "propertylandusedesc             0\n",
       "heatingorsystemdesc             0\n",
       "bathroomcnt                     0\n",
       "bedroomcnt                      0\n",
       "buildingqualitytypeid           0\n",
       "calculatedfinishedsquarefeet    0\n",
       "finishedsquarefeet12            0\n",
       "fips                            0\n",
       "fullbathcnt                     0\n",
       "latitude                        0\n",
       "longitude                       0\n",
       "lotsizesquarefeet               0\n",
       "propertycountylandusecode       0\n",
       "rawcensustractandblock          0\n",
       "regionidcity                    0\n",
       "regionidcounty                  0\n",
       "regionidzip                     0\n",
       "roomcnt                         0\n",
       "unitcnt                         0\n",
       "yearbuilt                       0\n",
       "structuretaxvaluedollarcnt      0\n",
       "taxvaluedollarcnt               0\n",
       "assessmentyear                  0\n",
       "landtaxvaluedollarcnt           0\n",
       "taxamount                       0\n",
       "censustractandblock             0\n",
       "logerror                        0\n",
       "pid                             0\n",
       "tdate                           0\n",
       "parcelid                        0\n",
       "dtype: int64"
      ]
     },
     "execution_count": 45,
     "metadata": {},
     "output_type": "execute_result"
    }
   ],
   "source": [
    "validate.isnull().sum().sort_values(ascending=False)"
   ]
  },
  {
   "cell_type": "code",
   "execution_count": 46,
   "metadata": {},
   "outputs": [
    {
     "data": {
      "text/plain": [
       "propertylandusedesc             0\n",
       "heatingorsystemdesc             0\n",
       "bathroomcnt                     0\n",
       "bedroomcnt                      0\n",
       "buildingqualitytypeid           0\n",
       "calculatedfinishedsquarefeet    0\n",
       "finishedsquarefeet12            0\n",
       "fips                            0\n",
       "fullbathcnt                     0\n",
       "latitude                        0\n",
       "longitude                       0\n",
       "lotsizesquarefeet               0\n",
       "propertycountylandusecode       0\n",
       "rawcensustractandblock          0\n",
       "regionidcity                    0\n",
       "regionidcounty                  0\n",
       "regionidzip                     0\n",
       "roomcnt                         0\n",
       "unitcnt                         0\n",
       "yearbuilt                       0\n",
       "structuretaxvaluedollarcnt      0\n",
       "taxvaluedollarcnt               0\n",
       "assessmentyear                  0\n",
       "landtaxvaluedollarcnt           0\n",
       "taxamount                       0\n",
       "censustractandblock             0\n",
       "logerror                        0\n",
       "pid                             0\n",
       "tdate                           0\n",
       "parcelid                        0\n",
       "dtype: int64"
      ]
     },
     "execution_count": 46,
     "metadata": {},
     "output_type": "execute_result"
    }
   ],
   "source": [
    "test.isnull().sum().sort_values(ascending=False)"
   ]
  },
  {
   "cell_type": "markdown",
   "metadata": {},
   "source": [
    "- Since there are no more null values and the data is prepped, we can write the output to disk"
   ]
  },
  {
   "cell_type": "code",
   "execution_count": null,
   "metadata": {},
   "outputs": [],
   "source": [
    "train.to_csv(\"zillow_train.csv\")\n",
    "validate.to_csv(\"zillow_validate.csv\")\n",
    "test.to_csv(\"zillow_test.csv\")"
   ]
  }
 ],
 "metadata": {
  "kernelspec": {
   "display_name": "Python 3",
   "language": "python",
   "name": "python3"
  },
  "language_info": {
   "codemirror_mode": {
    "name": "ipython",
    "version": 3
   },
   "file_extension": ".py",
   "mimetype": "text/x-python",
   "name": "python",
   "nbconvert_exporter": "python",
   "pygments_lexer": "ipython3",
   "version": "3.7.6"
  }
 },
 "nbformat": 4,
 "nbformat_minor": 4
}
